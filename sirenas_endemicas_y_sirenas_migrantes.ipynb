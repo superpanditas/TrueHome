{
  "nbformat": 4,
  "nbformat_minor": 5,
  "metadata": {
    "kernelspec": {
      "display_name": "Python 3",
      "language": "python",
      "name": "python3"
    },
    "language_info": {
      "codemirror_mode": {
        "name": "ipython",
        "version": 3
      },
      "file_extension": ".py",
      "mimetype": "text/x-python",
      "name": "python",
      "nbconvert_exporter": "python",
      "pygments_lexer": "ipython3",
      "version": "3.7.3"
    },
    "colab": {
      "name": "sirenas_endemicas_y_sirenas_migrantes.ipynb",
      "provenance": [],
      "include_colab_link": true
    }
  },
  "cells": [
    {
      "cell_type": "markdown",
      "metadata": {
        "id": "view-in-github",
        "colab_type": "text"
      },
      "source": [
        "<a href=\"https://colab.research.google.com/github/superpanditas/TrueHome/blob/main/sirenas_endemicas_y_sirenas_migrantes.ipynb\" target=\"_parent\"><img src=\"https://colab.research.google.com/assets/colab-badge.svg\" alt=\"Open In Colab\"/></a>"
      ]
    },
    {
      "cell_type": "markdown",
      "metadata": {
        "id": "overall-parish"
      },
      "source": [
        "### __*Importing the Libraries*__"
      ],
      "id": "overall-parish"
    },
    {
      "cell_type": "code",
      "metadata": {
        "id": "architectural-munich"
      },
      "source": [
        "import pandas as pd\n",
        "import numpy as np \n",
        "import matplotlib.pyplot as plt\n",
        "import seaborn as sns"
      ],
      "id": "architectural-munich",
      "execution_count": 1,
      "outputs": []
    },
    {
      "cell_type": "markdown",
      "metadata": {
        "id": "genetic-syntax"
      },
      "source": [
        "#### First Problem"
      ],
      "id": "genetic-syntax"
    },
    {
      "cell_type": "code",
      "metadata": {
        "id": "obvious-property"
      },
      "source": [
        "venom = pd.read_csv('veneno.csv')"
      ],
      "id": "obvious-property",
      "execution_count": null,
      "outputs": []
    },
    {
      "cell_type": "code",
      "metadata": {
        "id": "challenging-powder",
        "outputId": "95b5c64d-e9d2-4cb8-d4b6-f054a2da443c"
      },
      "source": [
        "venom.head()"
      ],
      "id": "challenging-powder",
      "execution_count": null,
      "outputs": [
        {
          "output_type": "execute_result",
          "data": {
            "text/html": [
              "<div>\n",
              "<style scoped>\n",
              "    .dataframe tbody tr th:only-of-type {\n",
              "        vertical-align: middle;\n",
              "    }\n",
              "\n",
              "    .dataframe tbody tr th {\n",
              "        vertical-align: top;\n",
              "    }\n",
              "\n",
              "    .dataframe thead th {\n",
              "        text-align: right;\n",
              "    }\n",
              "</style>\n",
              "<table border=\"1\" class=\"dataframe\">\n",
              "  <thead>\n",
              "    <tr style=\"text-align: right;\">\n",
              "      <th></th>\n",
              "      <th>caracteristica</th>\n",
              "      <th>v1</th>\n",
              "      <th>v2</th>\n",
              "      <th>v3</th>\n",
              "      <th>v4</th>\n",
              "      <th>v5</th>\n",
              "      <th>v6</th>\n",
              "      <th>v7</th>\n",
              "      <th>v8</th>\n",
              "      <th>v9</th>\n",
              "      <th>v10</th>\n",
              "    </tr>\n",
              "  </thead>\n",
              "  <tbody>\n",
              "    <tr>\n",
              "      <th>0</th>\n",
              "      <td>valor</td>\n",
              "      <td>21</td>\n",
              "      <td>56</td>\n",
              "      <td>2131.4</td>\n",
              "      <td>164.6</td>\n",
              "      <td>4527.9</td>\n",
              "      <td>1</td>\n",
              "      <td>2.09</td>\n",
              "      <td>3.8</td>\n",
              "      <td>538</td>\n",
              "      <td>23.7</td>\n",
              "    </tr>\n",
              "  </tbody>\n",
              "</table>\n",
              "</div>"
            ],
            "text/plain": [
              "  caracteristica  v1  v2      v3     v4      v5  v6    v7   v8   v9   v10\n",
              "0          valor  21  56  2131.4  164.6  4527.9   1  2.09  3.8  538  23.7"
            ]
          },
          "metadata": {
            "tags": []
          },
          "execution_count": 4
        }
      ]
    },
    {
      "cell_type": "code",
      "metadata": {
        "id": "numerical-pavilion"
      },
      "source": [
        "sust = pd.read_csv('sustancias_diversas.csv')"
      ],
      "id": "numerical-pavilion",
      "execution_count": null,
      "outputs": []
    },
    {
      "cell_type": "code",
      "metadata": {
        "id": "weird-toolbox",
        "outputId": "11e7bbb1-4aa5-4343-c0a3-271399622f9e"
      },
      "source": [
        "sust.head()"
      ],
      "id": "weird-toolbox",
      "execution_count": null,
      "outputs": [
        {
          "output_type": "execute_result",
          "data": {
            "text/html": [
              "<div>\n",
              "<style scoped>\n",
              "    .dataframe tbody tr th:only-of-type {\n",
              "        vertical-align: middle;\n",
              "    }\n",
              "\n",
              "    .dataframe tbody tr th {\n",
              "        vertical-align: top;\n",
              "    }\n",
              "\n",
              "    .dataframe thead th {\n",
              "        text-align: right;\n",
              "    }\n",
              "</style>\n",
              "<table border=\"1\" class=\"dataframe\">\n",
              "  <thead>\n",
              "    <tr style=\"text-align: right;\">\n",
              "      <th></th>\n",
              "      <th>id</th>\n",
              "      <th>v1</th>\n",
              "      <th>v2</th>\n",
              "      <th>v3</th>\n",
              "      <th>v4</th>\n",
              "      <th>v5</th>\n",
              "      <th>v6</th>\n",
              "      <th>v7</th>\n",
              "      <th>v8</th>\n",
              "      <th>v9</th>\n",
              "      <th>v10</th>\n",
              "    </tr>\n",
              "  </thead>\n",
              "  <tbody>\n",
              "    <tr>\n",
              "      <th>0</th>\n",
              "      <td>517</td>\n",
              "      <td>24.7</td>\n",
              "      <td>48.5</td>\n",
              "      <td>2449.5</td>\n",
              "      <td>133.0</td>\n",
              "      <td>5044.5</td>\n",
              "      <td>1.2</td>\n",
              "      <td>2.2</td>\n",
              "      <td>3.8</td>\n",
              "      <td>568.8</td>\n",
              "      <td>19.9</td>\n",
              "    </tr>\n",
              "    <tr>\n",
              "      <th>1</th>\n",
              "      <td>226</td>\n",
              "      <td>21.0</td>\n",
              "      <td>56.2</td>\n",
              "      <td>2114.7</td>\n",
              "      <td>163.7</td>\n",
              "      <td>4559.6</td>\n",
              "      <td>1.0</td>\n",
              "      <td>2.1</td>\n",
              "      <td>3.8</td>\n",
              "      <td>542.8</td>\n",
              "      <td>23.7</td>\n",
              "    </tr>\n",
              "    <tr>\n",
              "      <th>2</th>\n",
              "      <td>615</td>\n",
              "      <td>18.2</td>\n",
              "      <td>56.8</td>\n",
              "      <td>2055.4</td>\n",
              "      <td>150.3</td>\n",
              "      <td>4718.8</td>\n",
              "      <td>0.8</td>\n",
              "      <td>2.4</td>\n",
              "      <td>4.6</td>\n",
              "      <td>431.6</td>\n",
              "      <td>23.5</td>\n",
              "    </tr>\n",
              "    <tr>\n",
              "      <th>3</th>\n",
              "      <td>390</td>\n",
              "      <td>20.8</td>\n",
              "      <td>56.0</td>\n",
              "      <td>2112.9</td>\n",
              "      <td>165.9</td>\n",
              "      <td>4503.9</td>\n",
              "      <td>1.0</td>\n",
              "      <td>2.1</td>\n",
              "      <td>3.8</td>\n",
              "      <td>533.9</td>\n",
              "      <td>23.9</td>\n",
              "    </tr>\n",
              "    <tr>\n",
              "      <th>4</th>\n",
              "      <td>172</td>\n",
              "      <td>21.0</td>\n",
              "      <td>56.4</td>\n",
              "      <td>2146.7</td>\n",
              "      <td>166.0</td>\n",
              "      <td>4492.2</td>\n",
              "      <td>1.0</td>\n",
              "      <td>2.1</td>\n",
              "      <td>3.8</td>\n",
              "      <td>543.2</td>\n",
              "      <td>23.7</td>\n",
              "    </tr>\n",
              "  </tbody>\n",
              "</table>\n",
              "</div>"
            ],
            "text/plain": [
              "    id    v1    v2      v3     v4      v5   v6   v7   v8     v9   v10\n",
              "0  517  24.7  48.5  2449.5  133.0  5044.5  1.2  2.2  3.8  568.8  19.9\n",
              "1  226  21.0  56.2  2114.7  163.7  4559.6  1.0  2.1  3.8  542.8  23.7\n",
              "2  615  18.2  56.8  2055.4  150.3  4718.8  0.8  2.4  4.6  431.6  23.5\n",
              "3  390  20.8  56.0  2112.9  165.9  4503.9  1.0  2.1  3.8  533.9  23.9\n",
              "4  172  21.0  56.4  2146.7  166.0  4492.2  1.0  2.1  3.8  543.2  23.7"
            ]
          },
          "metadata": {
            "tags": []
          },
          "execution_count": 6
        }
      ]
    },
    {
      "cell_type": "code",
      "metadata": {
        "id": "young-privilege",
        "outputId": "9a686c11-2d5f-4046-e0ce-948446373a90"
      },
      "source": [
        "sust.info()"
      ],
      "id": "young-privilege",
      "execution_count": null,
      "outputs": [
        {
          "output_type": "stream",
          "text": [
            "<class 'pandas.core.frame.DataFrame'>\n",
            "RangeIndex: 500 entries, 0 to 499\n",
            "Data columns (total 11 columns):\n",
            " #   Column  Non-Null Count  Dtype  \n",
            "---  ------  --------------  -----  \n",
            " 0   id      500 non-null    int64  \n",
            " 1   v1      500 non-null    float64\n",
            " 2   v2      500 non-null    float64\n",
            " 3   v3      500 non-null    float64\n",
            " 4   v4      500 non-null    float64\n",
            " 5   v5      500 non-null    float64\n",
            " 6   v6      500 non-null    float64\n",
            " 7   v7      500 non-null    float64\n",
            " 8   v8      500 non-null    float64\n",
            " 9   v9      500 non-null    float64\n",
            " 10  v10     500 non-null    float64\n",
            "dtypes: float64(10), int64(1)\n",
            "memory usage: 43.1 KB\n"
          ],
          "name": "stdout"
        }
      ]
    },
    {
      "cell_type": "code",
      "metadata": {
        "id": "fitted-intake"
      },
      "source": [
        "# 50 members "
      ],
      "id": "fitted-intake",
      "execution_count": null,
      "outputs": []
    },
    {
      "cell_type": "code",
      "metadata": {
        "id": "northern-prayer",
        "outputId": "81bc90bb-5b5e-414c-89ea-16f50f2bdbdd"
      },
      "source": [
        "sust.columns"
      ],
      "id": "northern-prayer",
      "execution_count": null,
      "outputs": [
        {
          "output_type": "execute_result",
          "data": {
            "text/plain": [
              "Index(['id', 'v1', 'v2', 'v3', 'v4', 'v5', 'v6', 'v7', 'v8', 'v9', 'v10'], dtype='object')"
            ]
          },
          "metadata": {
            "tags": []
          },
          "execution_count": 9
        }
      ]
    },
    {
      "cell_type": "code",
      "metadata": {
        "id": "closing-christopher",
        "outputId": "86fec350-db8b-4f03-e25d-40c2b8984047"
      },
      "source": [
        "sust.describe().round(3)"
      ],
      "id": "closing-christopher",
      "execution_count": null,
      "outputs": [
        {
          "output_type": "execute_result",
          "data": {
            "text/html": [
              "<div>\n",
              "<style scoped>\n",
              "    .dataframe tbody tr th:only-of-type {\n",
              "        vertical-align: middle;\n",
              "    }\n",
              "\n",
              "    .dataframe tbody tr th {\n",
              "        vertical-align: top;\n",
              "    }\n",
              "\n",
              "    .dataframe thead th {\n",
              "        text-align: right;\n",
              "    }\n",
              "</style>\n",
              "<table border=\"1\" class=\"dataframe\">\n",
              "  <thead>\n",
              "    <tr style=\"text-align: right;\">\n",
              "      <th></th>\n",
              "      <th>id</th>\n",
              "      <th>v1</th>\n",
              "      <th>v2</th>\n",
              "      <th>v3</th>\n",
              "      <th>v4</th>\n",
              "      <th>v5</th>\n",
              "      <th>v6</th>\n",
              "      <th>v7</th>\n",
              "      <th>v8</th>\n",
              "      <th>v9</th>\n",
              "      <th>v10</th>\n",
              "    </tr>\n",
              "  </thead>\n",
              "  <tbody>\n",
              "    <tr>\n",
              "      <th>count</th>\n",
              "      <td>500.000</td>\n",
              "      <td>500.000</td>\n",
              "      <td>500.000</td>\n",
              "      <td>500.000</td>\n",
              "      <td>500.000</td>\n",
              "      <td>500.000</td>\n",
              "      <td>500.000</td>\n",
              "      <td>500.000</td>\n",
              "      <td>500.000</td>\n",
              "      <td>500.000</td>\n",
              "      <td>500.000</td>\n",
              "    </tr>\n",
              "    <tr>\n",
              "      <th>mean</th>\n",
              "      <td>487.338</td>\n",
              "      <td>20.978</td>\n",
              "      <td>55.915</td>\n",
              "      <td>2122.974</td>\n",
              "      <td>165.231</td>\n",
              "      <td>4536.858</td>\n",
              "      <td>1.002</td>\n",
              "      <td>2.108</td>\n",
              "      <td>3.800</td>\n",
              "      <td>538.805</td>\n",
              "      <td>23.677</td>\n",
              "    </tr>\n",
              "    <tr>\n",
              "      <th>std</th>\n",
              "      <td>289.235</td>\n",
              "      <td>1.667</td>\n",
              "      <td>4.483</td>\n",
              "      <td>165.022</td>\n",
              "      <td>13.070</td>\n",
              "      <td>354.198</td>\n",
              "      <td>0.087</td>\n",
              "      <td>0.171</td>\n",
              "      <td>0.315</td>\n",
              "      <td>41.981</td>\n",
              "      <td>1.977</td>\n",
              "    </tr>\n",
              "    <tr>\n",
              "      <th>min</th>\n",
              "      <td>1.000</td>\n",
              "      <td>16.800</td>\n",
              "      <td>45.000</td>\n",
              "      <td>1705.700</td>\n",
              "      <td>132.100</td>\n",
              "      <td>3624.600</td>\n",
              "      <td>0.800</td>\n",
              "      <td>1.700</td>\n",
              "      <td>3.000</td>\n",
              "      <td>430.700</td>\n",
              "      <td>19.000</td>\n",
              "    </tr>\n",
              "    <tr>\n",
              "      <th>25%</th>\n",
              "      <td>233.750</td>\n",
              "      <td>20.800</td>\n",
              "      <td>55.400</td>\n",
              "      <td>2111.050</td>\n",
              "      <td>163.100</td>\n",
              "      <td>4485.775</td>\n",
              "      <td>1.000</td>\n",
              "      <td>2.100</td>\n",
              "      <td>3.800</td>\n",
              "      <td>532.875</td>\n",
              "      <td>23.500</td>\n",
              "    </tr>\n",
              "    <tr>\n",
              "      <th>50%</th>\n",
              "      <td>469.500</td>\n",
              "      <td>21.000</td>\n",
              "      <td>55.900</td>\n",
              "      <td>2129.800</td>\n",
              "      <td>164.750</td>\n",
              "      <td>4532.750</td>\n",
              "      <td>1.000</td>\n",
              "      <td>2.100</td>\n",
              "      <td>3.800</td>\n",
              "      <td>537.100</td>\n",
              "      <td>23.700</td>\n",
              "    </tr>\n",
              "    <tr>\n",
              "      <th>75%</th>\n",
              "      <td>745.250</td>\n",
              "      <td>21.200</td>\n",
              "      <td>56.500</td>\n",
              "      <td>2147.625</td>\n",
              "      <td>166.125</td>\n",
              "      <td>4572.550</td>\n",
              "      <td>1.000</td>\n",
              "      <td>2.100</td>\n",
              "      <td>3.800</td>\n",
              "      <td>542.800</td>\n",
              "      <td>23.900</td>\n",
              "    </tr>\n",
              "    <tr>\n",
              "      <th>max</th>\n",
              "      <td>995.000</td>\n",
              "      <td>25.200</td>\n",
              "      <td>67.200</td>\n",
              "      <td>2556.800</td>\n",
              "      <td>197.500</td>\n",
              "      <td>5430.000</td>\n",
              "      <td>1.200</td>\n",
              "      <td>2.500</td>\n",
              "      <td>4.600</td>\n",
              "      <td>644.300</td>\n",
              "      <td>28.400</td>\n",
              "    </tr>\n",
              "  </tbody>\n",
              "</table>\n",
              "</div>"
            ],
            "text/plain": [
              "            id       v1       v2        v3       v4        v5       v6  \\\n",
              "count  500.000  500.000  500.000   500.000  500.000   500.000  500.000   \n",
              "mean   487.338   20.978   55.915  2122.974  165.231  4536.858    1.002   \n",
              "std    289.235    1.667    4.483   165.022   13.070   354.198    0.087   \n",
              "min      1.000   16.800   45.000  1705.700  132.100  3624.600    0.800   \n",
              "25%    233.750   20.800   55.400  2111.050  163.100  4485.775    1.000   \n",
              "50%    469.500   21.000   55.900  2129.800  164.750  4532.750    1.000   \n",
              "75%    745.250   21.200   56.500  2147.625  166.125  4572.550    1.000   \n",
              "max    995.000   25.200   67.200  2556.800  197.500  5430.000    1.200   \n",
              "\n",
              "            v7       v8       v9      v10  \n",
              "count  500.000  500.000  500.000  500.000  \n",
              "mean     2.108    3.800  538.805   23.677  \n",
              "std      0.171    0.315   41.981    1.977  \n",
              "min      1.700    3.000  430.700   19.000  \n",
              "25%      2.100    3.800  532.875   23.500  \n",
              "50%      2.100    3.800  537.100   23.700  \n",
              "75%      2.100    3.800  542.800   23.900  \n",
              "max      2.500    4.600  644.300   28.400  "
            ]
          },
          "metadata": {
            "tags": []
          },
          "execution_count": 10
        }
      ]
    },
    {
      "cell_type": "code",
      "metadata": {
        "id": "acoustic-coast",
        "outputId": "a8d686af-b584-4e62-f474-14514ab084da"
      },
      "source": [
        "sns.histplot(x='v9', data=sust, bins = 30)"
      ],
      "id": "acoustic-coast",
      "execution_count": null,
      "outputs": [
        {
          "output_type": "execute_result",
          "data": {
            "text/plain": [
              "<AxesSubplot:xlabel='v9', ylabel='Count'>"
            ]
          },
          "metadata": {
            "tags": []
          },
          "execution_count": 42
        },
        {
          "output_type": "display_data",
          "data": {
            "image/png": "[encoded data removed]",
            "text/plain": [
              "<Figure size 432x288 with 1 Axes>"
            ]
          },
          "metadata": {
            "tags": [],
            "needs_background": "light"
          }
        }
      ]
    },
    {
      "cell_type": "code",
      "metadata": {
        "id": "explicit-medicine"
      },
      "source": [
        "X = sust.drop(['id'], axis = 1)"
      ],
      "id": "explicit-medicine",
      "execution_count": null,
      "outputs": []
    },
    {
      "cell_type": "code",
      "metadata": {
        "id": "infrared-salon",
        "outputId": "6266dc41-7238-41eb-bf40-dd7220600699"
      },
      "source": [
        "from sklearn.cluster import KMeans\n",
        "wcss = []\n",
        "for i in range(1, 11):\n",
        "    kmeans = KMeans(n_clusters = i, init = 'k-means++', random_state = 42)\n",
        "    kmeans.fit(X)\n",
        "    wcss.append(kmeans.inertia_)\n",
        "plt.plot(range(1, 11), wcss)\n",
        "plt.title('The Elbow Method')\n",
        "plt.xlabel('Number of clusters')\n",
        "plt.ylabel('WCSS')\n",
        "plt.show()"
      ],
      "id": "infrared-salon",
      "execution_count": null,
      "outputs": [
        {
          "output_type": "display_data",
          "data": {
            "image/png": "[encoded data removed]",
            "text/plain": [
              "<Figure size 432x288 with 1 Axes>"
            ]
          },
          "metadata": {
            "tags": [],
            "needs_background": "light"
          }
        }
      ]
    },
    {
      "cell_type": "code",
      "metadata": {
        "id": "heard-miller"
      },
      "source": [
        "kmeans = KMeans(n_clusters = 7, init = 'k-means++', random_state = 42)\n",
        "y_kmeans = kmeans.fit_predict(X)"
      ],
      "id": "heard-miller",
      "execution_count": null,
      "outputs": []
    },
    {
      "cell_type": "code",
      "metadata": {
        "id": "sitting-century"
      },
      "source": [
        "X['value'] = y_kmeans"
      ],
      "id": "sitting-century",
      "execution_count": null,
      "outputs": []
    },
    {
      "cell_type": "code",
      "metadata": {
        "id": "comfortable-airfare",
        "outputId": "db95e141-4774-4611-9b8c-3c111722d8df"
      },
      "source": [
        "X.head()"
      ],
      "id": "comfortable-airfare",
      "execution_count": null,
      "outputs": [
        {
          "output_type": "execute_result",
          "data": {
            "text/html": [
              "<div>\n",
              "<style scoped>\n",
              "    .dataframe tbody tr th:only-of-type {\n",
              "        vertical-align: middle;\n",
              "    }\n",
              "\n",
              "    .dataframe tbody tr th {\n",
              "        vertical-align: top;\n",
              "    }\n",
              "\n",
              "    .dataframe thead th {\n",
              "        text-align: right;\n",
              "    }\n",
              "</style>\n",
              "<table border=\"1\" class=\"dataframe\">\n",
              "  <thead>\n",
              "    <tr style=\"text-align: right;\">\n",
              "      <th></th>\n",
              "      <th>v1</th>\n",
              "      <th>v2</th>\n",
              "      <th>v3</th>\n",
              "      <th>v4</th>\n",
              "      <th>v5</th>\n",
              "      <th>v6</th>\n",
              "      <th>v7</th>\n",
              "      <th>v8</th>\n",
              "      <th>v9</th>\n",
              "      <th>v10</th>\n",
              "      <th>value</th>\n",
              "    </tr>\n",
              "  </thead>\n",
              "  <tbody>\n",
              "    <tr>\n",
              "      <th>0</th>\n",
              "      <td>24.7</td>\n",
              "      <td>48.5</td>\n",
              "      <td>2449.5</td>\n",
              "      <td>133.0</td>\n",
              "      <td>5044.5</td>\n",
              "      <td>1.2</td>\n",
              "      <td>2.2</td>\n",
              "      <td>3.8</td>\n",
              "      <td>568.8</td>\n",
              "      <td>19.9</td>\n",
              "      <td>1</td>\n",
              "    </tr>\n",
              "    <tr>\n",
              "      <th>1</th>\n",
              "      <td>21.0</td>\n",
              "      <td>56.2</td>\n",
              "      <td>2114.7</td>\n",
              "      <td>163.7</td>\n",
              "      <td>4559.6</td>\n",
              "      <td>1.0</td>\n",
              "      <td>2.1</td>\n",
              "      <td>3.8</td>\n",
              "      <td>542.8</td>\n",
              "      <td>23.7</td>\n",
              "      <td>0</td>\n",
              "    </tr>\n",
              "    <tr>\n",
              "      <th>2</th>\n",
              "      <td>18.2</td>\n",
              "      <td>56.8</td>\n",
              "      <td>2055.4</td>\n",
              "      <td>150.3</td>\n",
              "      <td>4718.8</td>\n",
              "      <td>0.8</td>\n",
              "      <td>2.4</td>\n",
              "      <td>4.6</td>\n",
              "      <td>431.6</td>\n",
              "      <td>23.5</td>\n",
              "      <td>6</td>\n",
              "    </tr>\n",
              "    <tr>\n",
              "      <th>3</th>\n",
              "      <td>20.8</td>\n",
              "      <td>56.0</td>\n",
              "      <td>2112.9</td>\n",
              "      <td>165.9</td>\n",
              "      <td>4503.9</td>\n",
              "      <td>1.0</td>\n",
              "      <td>2.1</td>\n",
              "      <td>3.8</td>\n",
              "      <td>533.9</td>\n",
              "      <td>23.9</td>\n",
              "      <td>0</td>\n",
              "    </tr>\n",
              "    <tr>\n",
              "      <th>4</th>\n",
              "      <td>21.0</td>\n",
              "      <td>56.4</td>\n",
              "      <td>2146.7</td>\n",
              "      <td>166.0</td>\n",
              "      <td>4492.2</td>\n",
              "      <td>1.0</td>\n",
              "      <td>2.1</td>\n",
              "      <td>3.8</td>\n",
              "      <td>543.2</td>\n",
              "      <td>23.7</td>\n",
              "      <td>0</td>\n",
              "    </tr>\n",
              "  </tbody>\n",
              "</table>\n",
              "</div>"
            ],
            "text/plain": [
              "     v1    v2      v3     v4      v5   v6   v7   v8     v9   v10  value\n",
              "0  24.7  48.5  2449.5  133.0  5044.5  1.2  2.2  3.8  568.8  19.9      1\n",
              "1  21.0  56.2  2114.7  163.7  4559.6  1.0  2.1  3.8  542.8  23.7      0\n",
              "2  18.2  56.8  2055.4  150.3  4718.8  0.8  2.4  4.6  431.6  23.5      6\n",
              "3  20.8  56.0  2112.9  165.9  4503.9  1.0  2.1  3.8  533.9  23.9      0\n",
              "4  21.0  56.4  2146.7  166.0  4492.2  1.0  2.1  3.8  543.2  23.7      0"
            ]
          },
          "metadata": {
            "tags": []
          },
          "execution_count": 39
        }
      ]
    },
    {
      "cell_type": "code",
      "metadata": {
        "id": "designed-journalism",
        "outputId": "71ac0e56-d63f-4b69-fe76-6152c91a0931"
      },
      "source": [
        "X.groupby('value').agg({\n",
        "    'v1': np.mean\n",
        "   ,'v2': np.mean\n",
        "   ,'v3': np.mean\n",
        "   ,'v4': np.mean\n",
        "   ,'v5': np.mean\n",
        "   ,'v6': np.mean\n",
        "   ,'v7': np.mean \n",
        "   ,'v8': np.mean\n",
        "   ,'v9': np.mean\n",
        "   ,'v10': np.mean\n",
        "})"
      ],
      "id": "designed-journalism",
      "execution_count": null,
      "outputs": [
        {
          "output_type": "execute_result",
          "data": {
            "text/html": [
              "<div>\n",
              "<style scoped>\n",
              "    .dataframe tbody tr th:only-of-type {\n",
              "        vertical-align: middle;\n",
              "    }\n",
              "\n",
              "    .dataframe tbody tr th {\n",
              "        vertical-align: top;\n",
              "    }\n",
              "\n",
              "    .dataframe thead th {\n",
              "        text-align: right;\n",
              "    }\n",
              "</style>\n",
              "<table border=\"1\" class=\"dataframe\">\n",
              "  <thead>\n",
              "    <tr style=\"text-align: right;\">\n",
              "      <th></th>\n",
              "      <th>v1</th>\n",
              "      <th>v2</th>\n",
              "      <th>v3</th>\n",
              "      <th>v4</th>\n",
              "      <th>v5</th>\n",
              "      <th>v6</th>\n",
              "      <th>v7</th>\n",
              "      <th>v8</th>\n",
              "      <th>v9</th>\n",
              "      <th>v10</th>\n",
              "    </tr>\n",
              "    <tr>\n",
              "      <th>value</th>\n",
              "      <th></th>\n",
              "      <th></th>\n",
              "      <th></th>\n",
              "      <th></th>\n",
              "      <th></th>\n",
              "      <th></th>\n",
              "      <th></th>\n",
              "      <th></th>\n",
              "      <th></th>\n",
              "      <th></th>\n",
              "    </tr>\n",
              "  </thead>\n",
              "  <tbody>\n",
              "    <tr>\n",
              "      <th>0</th>\n",
              "      <td>20.985430</td>\n",
              "      <td>55.867550</td>\n",
              "      <td>2139.082781</td>\n",
              "      <td>164.887086</td>\n",
              "      <td>4513.128808</td>\n",
              "      <td>0.997351</td>\n",
              "      <td>2.103974</td>\n",
              "      <td>3.796689</td>\n",
              "      <td>537.328808</td>\n",
              "      <td>23.800000</td>\n",
              "    </tr>\n",
              "    <tr>\n",
              "      <th>1</th>\n",
              "      <td>20.621212</td>\n",
              "      <td>54.766667</td>\n",
              "      <td>2343.163636</td>\n",
              "      <td>166.630303</td>\n",
              "      <td>5230.942424</td>\n",
              "      <td>1.009091</td>\n",
              "      <td>2.151515</td>\n",
              "      <td>3.748485</td>\n",
              "      <td>550.636364</td>\n",
              "      <td>22.206061</td>\n",
              "    </tr>\n",
              "    <tr>\n",
              "      <th>2</th>\n",
              "      <td>20.446429</td>\n",
              "      <td>56.167857</td>\n",
              "      <td>2356.350000</td>\n",
              "      <td>157.435714</td>\n",
              "      <td>3981.400000</td>\n",
              "      <td>1.025000</td>\n",
              "      <td>2.089286</td>\n",
              "      <td>3.957143</td>\n",
              "      <td>549.989286</td>\n",
              "      <td>22.900000</td>\n",
              "    </tr>\n",
              "    <tr>\n",
              "      <th>3</th>\n",
              "      <td>21.189362</td>\n",
              "      <td>57.431915</td>\n",
              "      <td>1958.948936</td>\n",
              "      <td>168.980851</td>\n",
              "      <td>3907.534043</td>\n",
              "      <td>1.021277</td>\n",
              "      <td>2.117021</td>\n",
              "      <td>3.840426</td>\n",
              "      <td>533.548936</td>\n",
              "      <td>24.585106</td>\n",
              "    </tr>\n",
              "    <tr>\n",
              "      <th>4</th>\n",
              "      <td>21.130000</td>\n",
              "      <td>55.985000</td>\n",
              "      <td>1824.330000</td>\n",
              "      <td>164.505000</td>\n",
              "      <td>5246.285000</td>\n",
              "      <td>1.010000</td>\n",
              "      <td>2.045000</td>\n",
              "      <td>3.775000</td>\n",
              "      <td>539.985000</td>\n",
              "      <td>23.510000</td>\n",
              "    </tr>\n",
              "    <tr>\n",
              "      <th>5</th>\n",
              "      <td>21.203226</td>\n",
              "      <td>54.270968</td>\n",
              "      <td>1839.925806</td>\n",
              "      <td>167.174194</td>\n",
              "      <td>4667.754839</td>\n",
              "      <td>0.967742</td>\n",
              "      <td>2.106452</td>\n",
              "      <td>3.800000</td>\n",
              "      <td>543.529032</td>\n",
              "      <td>23.080645</td>\n",
              "    </tr>\n",
              "    <tr>\n",
              "      <th>6</th>\n",
              "      <td>21.089744</td>\n",
              "      <td>56.520513</td>\n",
              "      <td>2220.174359</td>\n",
              "      <td>166.617949</td>\n",
              "      <td>4822.658974</td>\n",
              "      <td>1.010256</td>\n",
              "      <td>2.133333</td>\n",
              "      <td>3.715385</td>\n",
              "      <td>534.171795</td>\n",
              "      <td>23.992308</td>\n",
              "    </tr>\n",
              "  </tbody>\n",
              "</table>\n",
              "</div>"
            ],
            "text/plain": [
              "              v1         v2           v3          v4           v5        v6  \\\n",
              "value                                                                         \n",
              "0      20.985430  55.867550  2139.082781  164.887086  4513.128808  0.997351   \n",
              "1      20.621212  54.766667  2343.163636  166.630303  5230.942424  1.009091   \n",
              "2      20.446429  56.167857  2356.350000  157.435714  3981.400000  1.025000   \n",
              "3      21.189362  57.431915  1958.948936  168.980851  3907.534043  1.021277   \n",
              "4      21.130000  55.985000  1824.330000  164.505000  5246.285000  1.010000   \n",
              "5      21.203226  54.270968  1839.925806  167.174194  4667.754839  0.967742   \n",
              "6      21.089744  56.520513  2220.174359  166.617949  4822.658974  1.010256   \n",
              "\n",
              "             v7        v8          v9        v10  \n",
              "value                                             \n",
              "0      2.103974  3.796689  537.328808  23.800000  \n",
              "1      2.151515  3.748485  550.636364  22.206061  \n",
              "2      2.089286  3.957143  549.989286  22.900000  \n",
              "3      2.117021  3.840426  533.548936  24.585106  \n",
              "4      2.045000  3.775000  539.985000  23.510000  \n",
              "5      2.106452  3.800000  543.529032  23.080645  \n",
              "6      2.133333  3.715385  534.171795  23.992308  "
            ]
          },
          "metadata": {
            "tags": []
          },
          "execution_count": 40
        }
      ]
    },
    {
      "cell_type": "code",
      "metadata": {
        "id": "activated-yahoo",
        "outputId": "5aba9c39-241e-41e2-c33b-fa07b9066dff"
      },
      "source": [
        "venom.head()"
      ],
      "id": "activated-yahoo",
      "execution_count": null,
      "outputs": [
        {
          "output_type": "execute_result",
          "data": {
            "text/html": [
              "<div>\n",
              "<style scoped>\n",
              "    .dataframe tbody tr th:only-of-type {\n",
              "        vertical-align: middle;\n",
              "    }\n",
              "\n",
              "    .dataframe tbody tr th {\n",
              "        vertical-align: top;\n",
              "    }\n",
              "\n",
              "    .dataframe thead th {\n",
              "        text-align: right;\n",
              "    }\n",
              "</style>\n",
              "<table border=\"1\" class=\"dataframe\">\n",
              "  <thead>\n",
              "    <tr style=\"text-align: right;\">\n",
              "      <th></th>\n",
              "      <th>caracteristica</th>\n",
              "      <th>v1</th>\n",
              "      <th>v2</th>\n",
              "      <th>v3</th>\n",
              "      <th>v4</th>\n",
              "      <th>v5</th>\n",
              "      <th>v6</th>\n",
              "      <th>v7</th>\n",
              "      <th>v8</th>\n",
              "      <th>v9</th>\n",
              "      <th>v10</th>\n",
              "    </tr>\n",
              "  </thead>\n",
              "  <tbody>\n",
              "    <tr>\n",
              "      <th>0</th>\n",
              "      <td>valor</td>\n",
              "      <td>21</td>\n",
              "      <td>56</td>\n",
              "      <td>2131.4</td>\n",
              "      <td>164.6</td>\n",
              "      <td>4527.9</td>\n",
              "      <td>1</td>\n",
              "      <td>2.09</td>\n",
              "      <td>3.8</td>\n",
              "      <td>538</td>\n",
              "      <td>23.7</td>\n",
              "    </tr>\n",
              "  </tbody>\n",
              "</table>\n",
              "</div>"
            ],
            "text/plain": [
              "  caracteristica  v1  v2      v3     v4      v5  v6    v7   v8   v9   v10\n",
              "0          valor  21  56  2131.4  164.6  4527.9   1  2.09  3.8  538  23.7"
            ]
          },
          "metadata": {
            "tags": []
          },
          "execution_count": 36
        }
      ]
    },
    {
      "cell_type": "markdown",
      "metadata": {
        "id": "alpine-dublin"
      },
      "source": [
        "### __*Second Problem*__"
      ],
      "id": "alpine-dublin"
    },
    {
      "cell_type": "code",
      "metadata": {
        "id": "atmospheric-thought"
      },
      "source": [
        "jamones = pd.read_csv('score_de_jamonosidad.csv')"
      ],
      "id": "atmospheric-thought",
      "execution_count": null,
      "outputs": []
    },
    {
      "cell_type": "code",
      "metadata": {
        "id": "naked-imagination",
        "outputId": "22d49502-6d00-4536-aaae-93c890c42da4"
      },
      "source": [
        "jamones.head()"
      ],
      "id": "naked-imagination",
      "execution_count": null,
      "outputs": [
        {
          "output_type": "execute_result",
          "data": {
            "text/html": [
              "<div>\n",
              "<style scoped>\n",
              "    .dataframe tbody tr th:only-of-type {\n",
              "        vertical-align: middle;\n",
              "    }\n",
              "\n",
              "    .dataframe tbody tr th {\n",
              "        vertical-align: top;\n",
              "    }\n",
              "\n",
              "    .dataframe thead th {\n",
              "        text-align: right;\n",
              "    }\n",
              "</style>\n",
              "<table border=\"1\" class=\"dataframe\">\n",
              "  <thead>\n",
              "    <tr style=\"text-align: right;\">\n",
              "      <th></th>\n",
              "      <th>jamon</th>\n",
              "      <th>score</th>\n",
              "      <th>v1</th>\n",
              "      <th>v2</th>\n",
              "      <th>v3</th>\n",
              "    </tr>\n",
              "  </thead>\n",
              "  <tbody>\n",
              "    <tr>\n",
              "      <th>0</th>\n",
              "      <td>1</td>\n",
              "      <td>10</td>\n",
              "      <td>1985</td>\n",
              "      <td>59.7</td>\n",
              "      <td>2205</td>\n",
              "    </tr>\n",
              "    <tr>\n",
              "      <th>1</th>\n",
              "      <td>2</td>\n",
              "      <td>11</td>\n",
              "      <td>2855</td>\n",
              "      <td>55.0</td>\n",
              "      <td>2096</td>\n",
              "    </tr>\n",
              "    <tr>\n",
              "      <th>2</th>\n",
              "      <td>3</td>\n",
              "      <td>11</td>\n",
              "      <td>1737</td>\n",
              "      <td>65.6</td>\n",
              "      <td>1847</td>\n",
              "    </tr>\n",
              "    <tr>\n",
              "      <th>3</th>\n",
              "      <td>4</td>\n",
              "      <td>13</td>\n",
              "      <td>2905</td>\n",
              "      <td>61.4</td>\n",
              "      <td>1903</td>\n",
              "    </tr>\n",
              "    <tr>\n",
              "      <th>4</th>\n",
              "      <td>5</td>\n",
              "      <td>10</td>\n",
              "      <td>1666</td>\n",
              "      <td>66.1</td>\n",
              "      <td>1457</td>\n",
              "    </tr>\n",
              "  </tbody>\n",
              "</table>\n",
              "</div>"
            ],
            "text/plain": [
              "   jamon  score    v1    v2    v3\n",
              "0      1     10  1985  59.7  2205\n",
              "1      2     11  2855  55.0  2096\n",
              "2      3     11  1737  65.6  1847\n",
              "3      4     13  2905  61.4  1903\n",
              "4      5     10  1666  66.1  1457"
            ]
          },
          "metadata": {
            "tags": []
          },
          "execution_count": 115
        }
      ]
    },
    {
      "cell_type": "code",
      "metadata": {
        "id": "sixth-reality",
        "outputId": "b0357ba5-a010-4a2a-873c-ee1e9f4477f4"
      },
      "source": [
        "sns.countplot(x='score', data=jamones)"
      ],
      "id": "sixth-reality",
      "execution_count": null,
      "outputs": [
        {
          "output_type": "execute_result",
          "data": {
            "text/plain": [
              "<AxesSubplot:xlabel='score', ylabel='count'>"
            ]
          },
          "metadata": {
            "tags": []
          },
          "execution_count": 116
        },
        {
          "output_type": "display_data",
          "data": {
            "image/png": "[encoded data removed]",
            "text/plain": [
              "<Figure size 432x288 with 1 Axes>"
            ]
          },
          "metadata": {
            "tags": []
          }
        }
      ]
    },
    {
      "cell_type": "code",
      "metadata": {
        "id": "suspended-norfolk",
        "outputId": "005ba34e-0417-4b29-de2e-361d07a0410f"
      },
      "source": [
        "jamones.groupby('score').agg({\n",
        "                               'v1': np.mean\n",
        "                              ,'v2': np.mean  \n",
        "                              ,'v3': np.mean\n",
        "                              }).round(2)"
      ],
      "id": "suspended-norfolk",
      "execution_count": null,
      "outputs": [
        {
          "output_type": "execute_result",
          "data": {
            "text/html": [
              "<div>\n",
              "<style scoped>\n",
              "    .dataframe tbody tr th:only-of-type {\n",
              "        vertical-align: middle;\n",
              "    }\n",
              "\n",
              "    .dataframe tbody tr th {\n",
              "        vertical-align: top;\n",
              "    }\n",
              "\n",
              "    .dataframe thead th {\n",
              "        text-align: right;\n",
              "    }\n",
              "</style>\n",
              "<table border=\"1\" class=\"dataframe\">\n",
              "  <thead>\n",
              "    <tr style=\"text-align: right;\">\n",
              "      <th></th>\n",
              "      <th>v1</th>\n",
              "      <th>v2</th>\n",
              "      <th>v3</th>\n",
              "    </tr>\n",
              "    <tr>\n",
              "      <th>score</th>\n",
              "      <th></th>\n",
              "      <th></th>\n",
              "      <th></th>\n",
              "    </tr>\n",
              "  </thead>\n",
              "  <tbody>\n",
              "    <tr>\n",
              "      <th>0</th>\n",
              "      <td>1503.00</td>\n",
              "      <td>53.50</td>\n",
              "      <td>2560.00</td>\n",
              "    </tr>\n",
              "    <tr>\n",
              "      <th>2</th>\n",
              "      <td>2243.50</td>\n",
              "      <td>51.35</td>\n",
              "      <td>2676.00</td>\n",
              "    </tr>\n",
              "    <tr>\n",
              "      <th>3</th>\n",
              "      <td>1699.00</td>\n",
              "      <td>57.30</td>\n",
              "      <td>2397.50</td>\n",
              "    </tr>\n",
              "    <tr>\n",
              "      <th>4</th>\n",
              "      <td>1629.67</td>\n",
              "      <td>55.50</td>\n",
              "      <td>2306.33</td>\n",
              "    </tr>\n",
              "    <tr>\n",
              "      <th>5</th>\n",
              "      <td>2243.67</td>\n",
              "      <td>52.77</td>\n",
              "      <td>2407.00</td>\n",
              "    </tr>\n",
              "    <tr>\n",
              "      <th>6</th>\n",
              "      <td>2274.67</td>\n",
              "      <td>57.60</td>\n",
              "      <td>2120.00</td>\n",
              "    </tr>\n",
              "    <tr>\n",
              "      <th>7</th>\n",
              "      <td>1480.00</td>\n",
              "      <td>68.50</td>\n",
              "      <td>1984.00</td>\n",
              "    </tr>\n",
              "    <tr>\n",
              "      <th>8</th>\n",
              "      <td>1638.00</td>\n",
              "      <td>65.30</td>\n",
              "      <td>1786.00</td>\n",
              "    </tr>\n",
              "    <tr>\n",
              "      <th>9</th>\n",
              "      <td>2216.50</td>\n",
              "      <td>58.70</td>\n",
              "      <td>1735.00</td>\n",
              "    </tr>\n",
              "    <tr>\n",
              "      <th>10</th>\n",
              "      <td>2203.60</td>\n",
              "      <td>62.16</td>\n",
              "      <td>1821.20</td>\n",
              "    </tr>\n",
              "    <tr>\n",
              "      <th>11</th>\n",
              "      <td>2564.00</td>\n",
              "      <td>60.12</td>\n",
              "      <td>2066.75</td>\n",
              "    </tr>\n",
              "    <tr>\n",
              "      <th>13</th>\n",
              "      <td>2905.00</td>\n",
              "      <td>61.40</td>\n",
              "      <td>1903.00</td>\n",
              "    </tr>\n",
              "  </tbody>\n",
              "</table>\n",
              "</div>"
            ],
            "text/plain": [
              "            v1     v2       v3\n",
              "score                         \n",
              "0      1503.00  53.50  2560.00\n",
              "2      2243.50  51.35  2676.00\n",
              "3      1699.00  57.30  2397.50\n",
              "4      1629.67  55.50  2306.33\n",
              "5      2243.67  52.77  2407.00\n",
              "6      2274.67  57.60  2120.00\n",
              "7      1480.00  68.50  1984.00\n",
              "8      1638.00  65.30  1786.00\n",
              "9      2216.50  58.70  1735.00\n",
              "10     2203.60  62.16  1821.20\n",
              "11     2564.00  60.12  2066.75\n",
              "13     2905.00  61.40  1903.00"
            ]
          },
          "metadata": {
            "tags": []
          },
          "execution_count": 117
        }
      ]
    },
    {
      "cell_type": "code",
      "metadata": {
        "id": "express-cartoon",
        "outputId": "c4441b9c-cec4-4c2d-a907-bce4c9e237b6"
      },
      "source": [
        "jamones.describe()"
      ],
      "id": "express-cartoon",
      "execution_count": null,
      "outputs": [
        {
          "output_type": "execute_result",
          "data": {
            "text/html": [
              "<div>\n",
              "<style scoped>\n",
              "    .dataframe tbody tr th:only-of-type {\n",
              "        vertical-align: middle;\n",
              "    }\n",
              "\n",
              "    .dataframe tbody tr th {\n",
              "        vertical-align: top;\n",
              "    }\n",
              "\n",
              "    .dataframe thead th {\n",
              "        text-align: right;\n",
              "    }\n",
              "</style>\n",
              "<table border=\"1\" class=\"dataframe\">\n",
              "  <thead>\n",
              "    <tr style=\"text-align: right;\">\n",
              "      <th></th>\n",
              "      <th>jamon</th>\n",
              "      <th>score</th>\n",
              "      <th>v1</th>\n",
              "      <th>v2</th>\n",
              "      <th>v3</th>\n",
              "    </tr>\n",
              "  </thead>\n",
              "  <tbody>\n",
              "    <tr>\n",
              "      <th>count</th>\n",
              "      <td>28.000000</td>\n",
              "      <td>28.000000</td>\n",
              "      <td>28.000000</td>\n",
              "      <td>28.000000</td>\n",
              "      <td>28.000000</td>\n",
              "    </tr>\n",
              "    <tr>\n",
              "      <th>mean</th>\n",
              "      <td>14.500000</td>\n",
              "      <td>6.964286</td>\n",
              "      <td>2127.214286</td>\n",
              "      <td>58.296429</td>\n",
              "      <td>2132.964286</td>\n",
              "    </tr>\n",
              "    <tr>\n",
              "      <th>std</th>\n",
              "      <td>8.225975</td>\n",
              "      <td>3.479912</td>\n",
              "      <td>499.116134</td>\n",
              "      <td>5.457342</td>\n",
              "      <td>367.711288</td>\n",
              "    </tr>\n",
              "    <tr>\n",
              "      <th>min</th>\n",
              "      <td>1.000000</td>\n",
              "      <td>0.000000</td>\n",
              "      <td>1414.000000</td>\n",
              "      <td>43.800000</td>\n",
              "      <td>1457.000000</td>\n",
              "    </tr>\n",
              "    <tr>\n",
              "      <th>25%</th>\n",
              "      <td>7.750000</td>\n",
              "      <td>4.000000</td>\n",
              "      <td>1714.000000</td>\n",
              "      <td>54.775000</td>\n",
              "      <td>1887.750000</td>\n",
              "    </tr>\n",
              "    <tr>\n",
              "      <th>50%</th>\n",
              "      <td>14.500000</td>\n",
              "      <td>6.500000</td>\n",
              "      <td>2106.000000</td>\n",
              "      <td>58.850000</td>\n",
              "      <td>2062.500000</td>\n",
              "    </tr>\n",
              "    <tr>\n",
              "      <th>75%</th>\n",
              "      <td>21.250000</td>\n",
              "      <td>10.000000</td>\n",
              "      <td>2474.250000</td>\n",
              "      <td>61.100000</td>\n",
              "      <td>2427.250000</td>\n",
              "    </tr>\n",
              "    <tr>\n",
              "      <th>max</th>\n",
              "      <td>28.000000</td>\n",
              "      <td>13.000000</td>\n",
              "      <td>2929.000000</td>\n",
              "      <td>68.500000</td>\n",
              "      <td>2876.000000</td>\n",
              "    </tr>\n",
              "  </tbody>\n",
              "</table>\n",
              "</div>"
            ],
            "text/plain": [
              "           jamon      score           v1         v2           v3\n",
              "count  28.000000  28.000000    28.000000  28.000000    28.000000\n",
              "mean   14.500000   6.964286  2127.214286  58.296429  2132.964286\n",
              "std     8.225975   3.479912   499.116134   5.457342   367.711288\n",
              "min     1.000000   0.000000  1414.000000  43.800000  1457.000000\n",
              "25%     7.750000   4.000000  1714.000000  54.775000  1887.750000\n",
              "50%    14.500000   6.500000  2106.000000  58.850000  2062.500000\n",
              "75%    21.250000  10.000000  2474.250000  61.100000  2427.250000\n",
              "max    28.000000  13.000000  2929.000000  68.500000  2876.000000"
            ]
          },
          "metadata": {
            "tags": []
          },
          "execution_count": 118
        }
      ]
    },
    {
      "cell_type": "code",
      "metadata": {
        "id": "international-zealand",
        "outputId": "b3890ca2-da72-411e-94f7-cd17f540d045"
      },
      "source": [
        "sns.set(style='whitegrid')\n",
        "fig = plt.figure(figsize=(15, 15))\n",
        "#my_pal = {\"sirena_migrante\": \"r\", \"sirena_endemica\": \"g\"}\n",
        "# plot (1,1)\n",
        "plt.subplot(1,3,1)\n",
        "sns.boxplot(x='score', y='v1', data=jamones)\n",
        "sns.despine(left=True, bottom=True)\n",
        "\n",
        "# plot(1,2)\n",
        "plt.subplot(1,3,2)\n",
        "sns.boxplot(x='score', y='v2', data=jamones)\n",
        "sns.despine(left=True, bottom=True)\n",
        "\n",
        "# plot(2,1)\n",
        "plt.subplot(1,3,3)\n",
        "sns.boxplot(x='score', y='v3', data=jamones)\n",
        "sns.despine(left=True, bottom=True)"
      ],
      "id": "international-zealand",
      "execution_count": null,
      "outputs": [
        {
          "output_type": "display_data",
          "data": {
            "image/png": "[encoded data removed]",
            "text/plain": [
              "<Figure size 1080x1080 with 3 Axes>"
            ]
          },
          "metadata": {
            "tags": []
          }
        }
      ]
    },
    {
      "cell_type": "code",
      "metadata": {
        "id": "plastic-caution",
        "outputId": "5a5fa7ba-a113-4eb4-b596-b2b3ffad8cc4"
      },
      "source": [
        "jamones.corr()"
      ],
      "id": "plastic-caution",
      "execution_count": null,
      "outputs": [
        {
          "output_type": "execute_result",
          "data": {
            "text/html": [
              "<div>\n",
              "<style scoped>\n",
              "    .dataframe tbody tr th:only-of-type {\n",
              "        vertical-align: middle;\n",
              "    }\n",
              "\n",
              "    .dataframe tbody tr th {\n",
              "        vertical-align: top;\n",
              "    }\n",
              "\n",
              "    .dataframe thead th {\n",
              "        text-align: right;\n",
              "    }\n",
              "</style>\n",
              "<table border=\"1\" class=\"dataframe\">\n",
              "  <thead>\n",
              "    <tr style=\"text-align: right;\">\n",
              "      <th></th>\n",
              "      <th>jamon</th>\n",
              "      <th>score</th>\n",
              "      <th>v1</th>\n",
              "      <th>v2</th>\n",
              "      <th>v3</th>\n",
              "    </tr>\n",
              "  </thead>\n",
              "  <tbody>\n",
              "    <tr>\n",
              "      <th>jamon</th>\n",
              "      <td>1.000000</td>\n",
              "      <td>-0.683794</td>\n",
              "      <td>-0.171793</td>\n",
              "      <td>-0.473936</td>\n",
              "      <td>0.373550</td>\n",
              "    </tr>\n",
              "    <tr>\n",
              "      <th>score</th>\n",
              "      <td>-0.683794</td>\n",
              "      <td>1.000000</td>\n",
              "      <td>0.482735</td>\n",
              "      <td>0.557565</td>\n",
              "      <td>-0.658654</td>\n",
              "    </tr>\n",
              "    <tr>\n",
              "      <th>v1</th>\n",
              "      <td>-0.171793</td>\n",
              "      <td>0.482735</td>\n",
              "      <td>1.000000</td>\n",
              "      <td>-0.194074</td>\n",
              "      <td>0.029643</td>\n",
              "    </tr>\n",
              "    <tr>\n",
              "      <th>v2</th>\n",
              "      <td>-0.473936</td>\n",
              "      <td>0.557565</td>\n",
              "      <td>-0.194074</td>\n",
              "      <td>1.000000</td>\n",
              "      <td>-0.679860</td>\n",
              "    </tr>\n",
              "    <tr>\n",
              "      <th>v3</th>\n",
              "      <td>0.373550</td>\n",
              "      <td>-0.658654</td>\n",
              "      <td>0.029643</td>\n",
              "      <td>-0.679860</td>\n",
              "      <td>1.000000</td>\n",
              "    </tr>\n",
              "  </tbody>\n",
              "</table>\n",
              "</div>"
            ],
            "text/plain": [
              "          jamon     score        v1        v2        v3\n",
              "jamon  1.000000 -0.683794 -0.171793 -0.473936  0.373550\n",
              "score -0.683794  1.000000  0.482735  0.557565 -0.658654\n",
              "v1    -0.171793  0.482735  1.000000 -0.194074  0.029643\n",
              "v2    -0.473936  0.557565 -0.194074  1.000000 -0.679860\n",
              "v3     0.373550 -0.658654  0.029643 -0.679860  1.000000"
            ]
          },
          "metadata": {
            "tags": []
          },
          "execution_count": 123
        }
      ]
    },
    {
      "cell_type": "markdown",
      "metadata": {
        "id": "funded-vocabulary"
      },
      "source": [
        "## __*Desafio: El seductor canto de las sirenas*__"
      ],
      "id": "funded-vocabulary"
    },
    {
      "cell_type": "markdown",
      "metadata": {
        "id": "purple-respect"
      },
      "source": [
        "#### Importing Dataset"
      ],
      "id": "purple-respect"
    },
    {
      "cell_type": "code",
      "metadata": {
        "id": "demanding-jamaica"
      },
      "source": [
        "sirenas = pd.read_csv('sirenas_endemicas_y_sirenas_migrantes_historico.csv')"
      ],
      "id": "demanding-jamaica",
      "execution_count": null,
      "outputs": []
    },
    {
      "cell_type": "markdown",
      "metadata": {
        "id": "elder-gothic"
      },
      "source": [
        "__*Review our Dataset*__\n",
        "\n",
        "<ul>\n",
        "    <li> How many rows do we have? </li>\n",
        "    <li> Do we have empty values? </li>\n",
        "    <li> Do we have balance data or not? </li>\n",
        "    <li> How many variables do we have? </li>\n",
        "    <li> ... and so on </li>\n",
        "</ul>"
      ],
      "id": "elder-gothic"
    },
    {
      "cell_type": "code",
      "metadata": {
        "id": "noble-childhood",
        "outputId": "4edc0537-b8f5-4609-9e63-ea3a5da1f58a"
      },
      "source": [
        "sirenas.info()"
      ],
      "id": "noble-childhood",
      "execution_count": null,
      "outputs": [
        {
          "output_type": "stream",
          "text": [
            "<class 'pandas.core.frame.DataFrame'>\n",
            "RangeIndex: 100 entries, 0 to 99\n",
            "Data columns (total 5 columns):\n",
            " #   Column   Non-Null Count  Dtype  \n",
            "---  ------   --------------  -----  \n",
            " 0   v1       100 non-null    float64\n",
            " 1   v2       100 non-null    float64\n",
            " 2   v3       100 non-null    float64\n",
            " 3   v4       100 non-null    float64\n",
            " 4   especie  100 non-null    object \n",
            "dtypes: float64(4), object(1)\n",
            "memory usage: 4.0+ KB\n"
          ],
          "name": "stdout"
        }
      ]
    },
    {
      "cell_type": "code",
      "metadata": {
        "id": "fancy-township",
        "outputId": "6f838b99-75ca-4c75-c128-01e4f019c44d"
      },
      "source": [
        "sns.set(style=\"whitegrid\")\n",
        "sns.countplot(x='especie', data = sirenas)\n",
        "sns.despine(left=True, bottom=True)"
      ],
      "id": "fancy-township",
      "execution_count": null,
      "outputs": [
        {
          "output_type": "display_data",
          "data": {
            "image/png": "[encoded data removed]",
            "text/plain": [
              "<Figure size 432x288 with 1 Axes>"
            ]
          },
          "metadata": {
            "tags": []
          }
        }
      ]
    },
    {
      "cell_type": "code",
      "metadata": {
        "id": "latest-excellence",
        "outputId": "fb8b33d4-cf76-4647-f1ee-1e11a2c1cea7"
      },
      "source": [
        "sirenas.describe().round(3)"
      ],
      "id": "latest-excellence",
      "execution_count": null,
      "outputs": [
        {
          "output_type": "execute_result",
          "data": {
            "text/html": [
              "<div>\n",
              "<style scoped>\n",
              "    .dataframe tbody tr th:only-of-type {\n",
              "        vertical-align: middle;\n",
              "    }\n",
              "\n",
              "    .dataframe tbody tr th {\n",
              "        vertical-align: top;\n",
              "    }\n",
              "\n",
              "    .dataframe thead th {\n",
              "        text-align: right;\n",
              "    }\n",
              "</style>\n",
              "<table border=\"1\" class=\"dataframe\">\n",
              "  <thead>\n",
              "    <tr style=\"text-align: right;\">\n",
              "      <th></th>\n",
              "      <th>v1</th>\n",
              "      <th>v2</th>\n",
              "      <th>v3</th>\n",
              "      <th>v4</th>\n",
              "    </tr>\n",
              "  </thead>\n",
              "  <tbody>\n",
              "    <tr>\n",
              "      <th>count</th>\n",
              "      <td>100.000</td>\n",
              "      <td>100.000</td>\n",
              "      <td>100.000</td>\n",
              "      <td>100.000</td>\n",
              "    </tr>\n",
              "    <tr>\n",
              "      <th>mean</th>\n",
              "      <td>5.797</td>\n",
              "      <td>3.196</td>\n",
              "      <td>3.508</td>\n",
              "      <td>1.135</td>\n",
              "    </tr>\n",
              "    <tr>\n",
              "      <th>std</th>\n",
              "      <td>0.945</td>\n",
              "      <td>0.416</td>\n",
              "      <td>2.094</td>\n",
              "      <td>0.919</td>\n",
              "    </tr>\n",
              "    <tr>\n",
              "      <th>min</th>\n",
              "      <td>4.300</td>\n",
              "      <td>2.200</td>\n",
              "      <td>1.000</td>\n",
              "      <td>0.100</td>\n",
              "    </tr>\n",
              "    <tr>\n",
              "      <th>25%</th>\n",
              "      <td>5.000</td>\n",
              "      <td>3.000</td>\n",
              "      <td>1.500</td>\n",
              "      <td>0.200</td>\n",
              "    </tr>\n",
              "    <tr>\n",
              "      <th>50%</th>\n",
              "      <td>5.700</td>\n",
              "      <td>3.150</td>\n",
              "      <td>3.200</td>\n",
              "      <td>1.000</td>\n",
              "    </tr>\n",
              "    <tr>\n",
              "      <th>75%</th>\n",
              "      <td>6.500</td>\n",
              "      <td>3.400</td>\n",
              "      <td>5.525</td>\n",
              "      <td>2.000</td>\n",
              "    </tr>\n",
              "    <tr>\n",
              "      <th>max</th>\n",
              "      <td>7.900</td>\n",
              "      <td>4.400</td>\n",
              "      <td>6.900</td>\n",
              "      <td>2.500</td>\n",
              "    </tr>\n",
              "  </tbody>\n",
              "</table>\n",
              "</div>"
            ],
            "text/plain": [
              "            v1       v2       v3       v4\n",
              "count  100.000  100.000  100.000  100.000\n",
              "mean     5.797    3.196    3.508    1.135\n",
              "std      0.945    0.416    2.094    0.919\n",
              "min      4.300    2.200    1.000    0.100\n",
              "25%      5.000    3.000    1.500    0.200\n",
              "50%      5.700    3.150    3.200    1.000\n",
              "75%      6.500    3.400    5.525    2.000\n",
              "max      7.900    4.400    6.900    2.500"
            ]
          },
          "metadata": {
            "tags": []
          },
          "execution_count": 15
        }
      ]
    },
    {
      "cell_type": "markdown",
      "metadata": {
        "id": "confidential-symposium"
      },
      "source": [
        "#### Analyze Data"
      ],
      "id": "confidential-symposium"
    },
    {
      "cell_type": "code",
      "metadata": {
        "id": "living-affiliation",
        "outputId": "4eea76d1-899c-4b8d-f92f-6aae2d0acd61"
      },
      "source": [
        "sirenas.columns"
      ],
      "id": "living-affiliation",
      "execution_count": null,
      "outputs": [
        {
          "output_type": "execute_result",
          "data": {
            "text/plain": [
              "Index(['v1', 'v2', 'v3', 'v4', 'especie'], dtype='object')"
            ]
          },
          "metadata": {
            "tags": []
          },
          "execution_count": 12
        }
      ]
    },
    {
      "cell_type": "code",
      "metadata": {
        "id": "drawn-surrey"
      },
      "source": [
        "col = ['v1', 'v2', 'v3', 'v4']"
      ],
      "id": "drawn-surrey",
      "execution_count": null,
      "outputs": []
    },
    {
      "cell_type": "markdown",
      "metadata": {
        "id": "federal-tomorrow"
      },
      "source": [
        "#### Correlation"
      ],
      "id": "federal-tomorrow"
    },
    {
      "cell_type": "markdown",
      "metadata": {
        "id": "convertible-greece"
      },
      "source": [
        "__*Exist a strong correlation between variables called*__ \n",
        "<li> v1 and (v3, v4) </li>\n",
        "<li> v3 and (v1, v4) </li>\n",
        "<li> v4 and (v1, v3) </li>"
      ],
      "id": "convertible-greece"
    },
    {
      "cell_type": "code",
      "metadata": {
        "id": "victorian-posting",
        "outputId": "a673560c-3cdd-4953-ebff-aab9edcae61d"
      },
      "source": [
        "plt.figure(figsize=(16, 6))\n",
        "heatmap = sns.heatmap(sirenas[col].corr(), vmin=-1, vmax=1, annot=True)\n",
        "heatmap.set_title(\"Correlation of\", fontdict={'fontsize':10}, pad=12);"
      ],
      "id": "victorian-posting",
      "execution_count": null,
      "outputs": [
        {
          "output_type": "display_data",
          "data": {
            "image/png": "[encoded data removed]",
            "text/plain": [
              "<Figure size 1152x432 with 2 Axes>"
            ]
          },
          "metadata": {
            "tags": []
          }
        }
      ]
    },
    {
      "cell_type": "markdown",
      "metadata": {
        "id": "executed-disorder"
      },
      "source": [
        "__*The variables named v3 and v4 have a good distribution to differentiate between classes, and I also noticed some outliers in each variable.\n",
        "Highlighting outliers in v1 and v2 because we can misclassify since the dispersion between them is very close.*__"
      ],
      "id": "executed-disorder"
    },
    {
      "cell_type": "code",
      "metadata": {
        "id": "material-daniel",
        "outputId": "6fefd64b-cccc-4f78-9de8-3a486039d930"
      },
      "source": [
        "sns.set(style='whitegrid')\n",
        "fig = plt.figure(figsize=(10,10))\n",
        "my_pal = {\"sirena_migrante\": \"r\", \"sirena_endemica\": \"g\"}\n",
        "# plot (1,1)\n",
        "plt.subplot(2,2,1)\n",
        "sns.boxplot(x='especie', y='v1', data=sirenas, palette=my_pal)\n",
        "sns.despine(left=True, bottom=True)\n",
        "\n",
        "# plot(1,2)\n",
        "plt.subplot(2,2,2)\n",
        "sns.boxplot(x='especie', y='v2', data=sirenas, palette=my_pal)\n",
        "sns.despine(left=True, bottom=True)\n",
        "\n",
        "# plot(2,1)\n",
        "plt.subplot(2,2,3)\n",
        "sns.boxplot(x='especie', y='v3', data=sirenas, palette=my_pal)\n",
        "sns.despine(left=True, bottom=True)\n",
        "\n",
        "# plot(2,2)\n",
        "plt.subplot(2,2,4)\n",
        "sns.boxplot(x='especie', y='v4', data=sirenas, palette=my_pal)\n",
        "sns.despine(left=True, bottom=True)"
      ],
      "id": "material-daniel",
      "execution_count": null,
      "outputs": [
        {
          "output_type": "display_data",
          "data": {
            "image/png": "[encoded data removed]",
            "text/plain": [
              "<Figure size 720x720 with 4 Axes>"
            ]
          },
          "metadata": {
            "tags": []
          }
        }
      ]
    },
    {
      "cell_type": "markdown",
      "metadata": {
        "id": "collaborative-piece"
      },
      "source": [
        "__*Visualize distribution of our variables according of the class*__"
      ],
      "id": "collaborative-piece"
    },
    {
      "cell_type": "code",
      "metadata": {
        "id": "looking-hardwood",
        "outputId": "ac4f6894-b498-4e92-da9e-724dce5d4008"
      },
      "source": [
        "sns.set(style='whitegrid')\n",
        "\n",
        "f, axs = plt.subplots(2, 2, figsize=(10, 10), sharex=False)\n",
        "sns.despine(left=True, bottom=True)\n",
        "\n",
        "my_pal = {\"sirena_migrante\": \"r\", \"sirena_endemica\": \"g\"}\n",
        "\n",
        "# plot (1,1)\n",
        "sns.histplot(data=sirenas, x='v1', hue='especie', palette=my_pal, kde=True, ax=axs[0, 0])\n",
        "\n",
        "# plot(1,2)\n",
        "sns.histplot(data=sirenas, x='v2', hue='especie', palette=my_pal, kde=True, ax=axs[0, 1])\n",
        "\n",
        "# plot(2,1)\n",
        "sns.histplot(data=sirenas, x='v3', hue='especie', palette=my_pal, kde=True, ax=axs[1, 0])\n",
        "\n",
        "# plot(2,2)\n",
        "sns.histplot(data=sirenas, x='v4', hue='especie', palette=my_pal, kde=True, ax=axs[1, 1])"
      ],
      "id": "looking-hardwood",
      "execution_count": null,
      "outputs": [
        {
          "output_type": "execute_result",
          "data": {
            "text/plain": [
              "<AxesSubplot:xlabel='v4', ylabel='Count'>"
            ]
          },
          "metadata": {
            "tags": []
          },
          "execution_count": 64
        },
        {
          "output_type": "display_data",
          "data": {
            "image/png": "[encoded data removed]",
            "text/plain": [
              "<Figure size 720x720 with 4 Axes>"
            ]
          },
          "metadata": {
            "tags": []
          }
        }
      ]
    },
    {
      "cell_type": "markdown",
      "metadata": {
        "id": "spiritual-retailer"
      },
      "source": [
        "__*Visualize distribution of our variables, just var 2 is similar a normal distribution and the rest are bimodal.*__"
      ],
      "id": "spiritual-retailer"
    },
    {
      "cell_type": "code",
      "metadata": {
        "id": "local-compound",
        "outputId": "061f7d3b-a9ef-4724-b573-60c195da04c5"
      },
      "source": [
        "sns.set(style='dark')\n",
        "\n",
        "f, axs = plt.subplots(2, 2, figsize=(10, 10), sharex=False)\n",
        "sns.despine(left=True, bottom=True)\n",
        "\n",
        "# plot (1,1)\n",
        "sns.histplot(data=sirenas, x='v1', kde=True, ax=axs[0, 0])\n",
        "\n",
        "# plot(1,2)\n",
        "sns.histplot(data=sirenas, x='v2', kde=True, ax=axs[0, 1])\n",
        "\n",
        "# plot(2,1)\n",
        "sns.histplot(data=sirenas, x='v3', kde=True, ax=axs[1, 0])\n",
        "\n",
        "# plot(2,2)\n",
        "sns.histplot(data=sirenas, x='v4', kde=True, ax=axs[1, 1])"
      ],
      "id": "local-compound",
      "execution_count": null,
      "outputs": [
        {
          "output_type": "execute_result",
          "data": {
            "text/plain": [
              "<AxesSubplot:xlabel='v4', ylabel='Count'>"
            ]
          },
          "metadata": {
            "tags": []
          },
          "execution_count": 9
        },
        {
          "output_type": "display_data",
          "data": {
            "image/png": "[encoded data removed]",
            "text/plain": [
              "<Figure size 720x720 with 4 Axes>"
            ]
          },
          "metadata": {
            "tags": []
          }
        }
      ]
    },
    {
      "cell_type": "markdown",
      "metadata": {
        "id": "suburban-dress"
      },
      "source": [
        "### __*Applying PCA to visualize the data*__"
      ],
      "id": "suburban-dress"
    },
    {
      "cell_type": "markdown",
      "metadata": {
        "id": "historic-prophet"
      },
      "source": [
        "__*Before applying PCA we need to scale features because PCA is affected by scale*__"
      ],
      "id": "historic-prophet"
    },
    {
      "cell_type": "code",
      "metadata": {
        "id": "quantitative-reservation"
      },
      "source": [
        "from sklearn.preprocessing import StandardScaler\n",
        "\n",
        "x_pca = sirenas.loc[:, col].values\n",
        "\n",
        "y_pca = sirenas.loc[:, ['especie']].values\n",
        "\n",
        "x_pca = StandardScaler().fit_transform(x_pca)"
      ],
      "id": "quantitative-reservation",
      "execution_count": null,
      "outputs": []
    },
    {
      "cell_type": "markdown",
      "metadata": {
        "id": "everyday-vocabulary"
      },
      "source": [
        "__*Applying PCA with 2 variables and visualize the data*__"
      ],
      "id": "everyday-vocabulary"
    },
    {
      "cell_type": "code",
      "metadata": {
        "id": "latest-moses"
      },
      "source": [
        "from sklearn.decomposition import PCA\n",
        "\n",
        "pca = PCA(n_components=2)\n",
        "pComponents = pca.fit_transform(x_pca)\n",
        "pData = pd.DataFrame(data = pComponents, columns = ['pComponent 1', 'pComponent 2'])"
      ],
      "id": "latest-moses",
      "execution_count": null,
      "outputs": []
    },
    {
      "cell_type": "code",
      "metadata": {
        "id": "optional-wisdom"
      },
      "source": [
        "pcaData = pd.concat([pData, sirenas[['especie']]], axis = 1)"
      ],
      "id": "optional-wisdom",
      "execution_count": null,
      "outputs": []
    },
    {
      "cell_type": "code",
      "metadata": {
        "id": "hydraulic-decimal"
      },
      "source": [
        "# pca.explained_variance_ratio_"
      ],
      "id": "hydraulic-decimal",
      "execution_count": null,
      "outputs": []
    },
    {
      "cell_type": "markdown",
      "metadata": {
        "id": "divine-aluminum"
      },
      "source": [
        "__*In effect, we can separate our data in a linear way*__"
      ],
      "id": "divine-aluminum"
    },
    {
      "cell_type": "code",
      "metadata": {
        "id": "english-characteristic",
        "outputId": "03744bcb-6116-46eb-e8b0-4ce7ce84e299"
      },
      "source": [
        "fig = plt.figure(figsize = (8,8))\n",
        "\n",
        "ax = fig.add_subplot(1,1,1) \n",
        "ax.set_xlabel('P Component 1', fontsize = 15)\n",
        "ax.set_ylabel('P Component 2', fontsize = 15)\n",
        "ax.set_title('Two Components PCA', fontsize = 20)\n",
        "\n",
        "labels = ['sirena_migrante', 'sirena_endemica']\n",
        "colors = ['r', 'g']\n",
        "\n",
        "for label, color in zip(labels,colors):\n",
        "    idx = pcaData['especie'] == label\n",
        "    ax.scatter(pcaData.loc[idx, 'pComponent 1']\n",
        "               , pcaData.loc[idx, 'pComponent 2']\n",
        "               , c = color\n",
        "               , s = 50)\n",
        "ax.legend(labels)\n",
        "ax.grid()"
      ],
      "id": "english-characteristic",
      "execution_count": null,
      "outputs": [
        {
          "output_type": "display_data",
          "data": {
            "image/png": "[encoded data removed]",
            "text/plain": [
              "<Figure size 576x576 with 1 Axes>"
            ]
          },
          "metadata": {
            "tags": []
          }
        }
      ]
    },
    {
      "cell_type": "markdown",
      "metadata": {
        "id": "beneficial-binding"
      },
      "source": [
        "### __*Using SVM to build a model*__"
      ],
      "id": "beneficial-binding"
    },
    {
      "cell_type": "code",
      "metadata": {
        "id": "renewable-lucas"
      },
      "source": [
        "def change_label(dta):\n",
        "    if dta == 'sirena_migrante':\n",
        "        return 0\n",
        "    else:\n",
        "        return 1\n",
        "    \n",
        "sirenas['especie_label'] = sirenas['especie'].apply(change_label)"
      ],
      "id": "renewable-lucas",
      "execution_count": null,
      "outputs": []
    },
    {
      "cell_type": "code",
      "metadata": {
        "id": "assisted-mustang"
      },
      "source": [
        "from sklearn.svm import LinearSVC\n",
        "from sklearn.model_selection import train_test_split\n",
        "\n",
        "X = sirenas.loc[:, col]\n",
        "Y = sirenas.loc[:, ['especie_label']]\n",
        "\n",
        "x_train, x_test, y_train, y_test = train_test_split(X, Y, test_size=0.25, stratify=Y, random_state=30)"
      ],
      "id": "assisted-mustang",
      "execution_count": null,
      "outputs": []
    },
    {
      "cell_type": "code",
      "metadata": {
        "id": "balanced-center",
        "outputId": "7a969599-54d6-4add-bb7b-c888a9463bcc"
      },
      "source": [
        "print(\"Train Feature Shape\", x_train.shape)\n",
        "print(\"Train Label Shape\", y_train.shape)"
      ],
      "id": "balanced-center",
      "execution_count": null,
      "outputs": [
        {
          "output_type": "stream",
          "text": [
            "Train Feature Shape (75, 4)\n",
            "Train Label Shape (75, 1)\n"
          ],
          "name": "stdout"
        }
      ]
    },
    {
      "cell_type": "markdown",
      "metadata": {
        "id": "regional-butterfly"
      },
      "source": [
        "__*Using pipeline to build a model*__"
      ],
      "id": "regional-butterfly"
    },
    {
      "cell_type": "code",
      "metadata": {
        "id": "spread-parliament"
      },
      "source": [
        "from sklearn.pipeline import Pipeline\n",
        "\n",
        "svm_clf = Pipeline([\n",
        "    ('scale', StandardScaler()),\n",
        "    ('pca', PCA(n_components=2)),\n",
        "    ('linear_svc', LinearSVC(C=1, loss='hinge'))\n",
        "])"
      ],
      "id": "spread-parliament",
      "execution_count": null,
      "outputs": []
    },
    {
      "cell_type": "code",
      "metadata": {
        "id": "adverse-wonder",
        "outputId": "399f83de-96ee-4efd-81f0-2a22c734b822"
      },
      "source": [
        "svm_clf.fit(x_train, y_train)"
      ],
      "id": "adverse-wonder",
      "execution_count": null,
      "outputs": [
        {
          "output_type": "stream",
          "text": [
            "/opt/tljh/user/lib/python3.7/site-packages/sklearn/utils/validation.py:760: DataConversionWarning: A column-vector y was passed when a 1d array was expected. Please change the shape of y to (n_samples, ), for example using ravel().\n",
            "  y = column_or_1d(y, warn=True)\n"
          ],
          "name": "stderr"
        },
        {
          "output_type": "execute_result",
          "data": {
            "text/plain": [
              "Pipeline(memory=None,\n",
              "         steps=[('scale',\n",
              "                 StandardScaler(copy=True, with_mean=True, with_std=True)),\n",
              "                ('pca',\n",
              "                 PCA(copy=True, iterated_power='auto', n_components=2,\n",
              "                     random_state=None, svd_solver='auto', tol=0.0,\n",
              "                     whiten=False)),\n",
              "                ('linear_svc',\n",
              "                 LinearSVC(C=1, class_weight=None, dual=True,\n",
              "                           fit_intercept=True, intercept_scaling=1,\n",
              "                           loss='hinge', max_iter=1000, multi_class='ovr',\n",
              "                           penalty='l2', random_state=None, tol=0.0001,\n",
              "                           verbose=0))],\n",
              "         verbose=False)"
            ]
          },
          "metadata": {
            "tags": []
          },
          "execution_count": 80
        }
      ]
    },
    {
      "cell_type": "code",
      "metadata": {
        "id": "backed-vietnam"
      },
      "source": [
        "y_predict = svm_clf.predict(x_test)"
      ],
      "id": "backed-vietnam",
      "execution_count": null,
      "outputs": []
    },
    {
      "cell_type": "code",
      "metadata": {
        "id": "suburban-tulsa",
        "outputId": "260b7788-5e05-4e9d-97fb-076abf582350"
      },
      "source": [
        "from sklearn.metrics import confusion_matrix\n",
        "matrix = confusion_matrix(y_test, y_predict)\n",
        "matrix"
      ],
      "id": "suburban-tulsa",
      "execution_count": null,
      "outputs": [
        {
          "output_type": "execute_result",
          "data": {
            "text/plain": [
              "array([[12,  0],\n",
              "       [ 0, 13]])"
            ]
          },
          "metadata": {
            "tags": []
          },
          "execution_count": 83
        }
      ]
    },
    {
      "cell_type": "code",
      "metadata": {
        "id": "vietnamese-throat",
        "outputId": "eca0d829-43df-4144-b636-4fc051908862"
      },
      "source": [
        "def original_label(dta):\n",
        "    if dta == 0:\n",
        "        return 'sirena_migrante'\n",
        "    else:\n",
        "        return 'sirena_endemica'\n",
        "\n",
        "y_predict = pd.DataFrame(y_predict)\n",
        "y_predict['especie'] = y_predict.iloc[:,0].apply(original_label)\n",
        "y_predict"
      ],
      "id": "vietnamese-throat",
      "execution_count": null,
      "outputs": [
        {
          "output_type": "execute_result",
          "data": {
            "text/html": [
              "<div>\n",
              "<style scoped>\n",
              "    .dataframe tbody tr th:only-of-type {\n",
              "        vertical-align: middle;\n",
              "    }\n",
              "\n",
              "    .dataframe tbody tr th {\n",
              "        vertical-align: top;\n",
              "    }\n",
              "\n",
              "    .dataframe thead th {\n",
              "        text-align: right;\n",
              "    }\n",
              "</style>\n",
              "<table border=\"1\" class=\"dataframe\">\n",
              "  <thead>\n",
              "    <tr style=\"text-align: right;\">\n",
              "      <th></th>\n",
              "      <th>0</th>\n",
              "      <th>especie</th>\n",
              "    </tr>\n",
              "  </thead>\n",
              "  <tbody>\n",
              "    <tr>\n",
              "      <th>0</th>\n",
              "      <td>1</td>\n",
              "      <td>sirena_endemica</td>\n",
              "    </tr>\n",
              "    <tr>\n",
              "      <th>1</th>\n",
              "      <td>0</td>\n",
              "      <td>sirena_migrante</td>\n",
              "    </tr>\n",
              "    <tr>\n",
              "      <th>2</th>\n",
              "      <td>1</td>\n",
              "      <td>sirena_endemica</td>\n",
              "    </tr>\n",
              "    <tr>\n",
              "      <th>3</th>\n",
              "      <td>1</td>\n",
              "      <td>sirena_endemica</td>\n",
              "    </tr>\n",
              "    <tr>\n",
              "      <th>4</th>\n",
              "      <td>1</td>\n",
              "      <td>sirena_endemica</td>\n",
              "    </tr>\n",
              "    <tr>\n",
              "      <th>5</th>\n",
              "      <td>1</td>\n",
              "      <td>sirena_endemica</td>\n",
              "    </tr>\n",
              "    <tr>\n",
              "      <th>6</th>\n",
              "      <td>1</td>\n",
              "      <td>sirena_endemica</td>\n",
              "    </tr>\n",
              "    <tr>\n",
              "      <th>7</th>\n",
              "      <td>0</td>\n",
              "      <td>sirena_migrante</td>\n",
              "    </tr>\n",
              "    <tr>\n",
              "      <th>8</th>\n",
              "      <td>1</td>\n",
              "      <td>sirena_endemica</td>\n",
              "    </tr>\n",
              "    <tr>\n",
              "      <th>9</th>\n",
              "      <td>1</td>\n",
              "      <td>sirena_endemica</td>\n",
              "    </tr>\n",
              "    <tr>\n",
              "      <th>10</th>\n",
              "      <td>0</td>\n",
              "      <td>sirena_migrante</td>\n",
              "    </tr>\n",
              "    <tr>\n",
              "      <th>11</th>\n",
              "      <td>0</td>\n",
              "      <td>sirena_migrante</td>\n",
              "    </tr>\n",
              "    <tr>\n",
              "      <th>12</th>\n",
              "      <td>1</td>\n",
              "      <td>sirena_endemica</td>\n",
              "    </tr>\n",
              "    <tr>\n",
              "      <th>13</th>\n",
              "      <td>0</td>\n",
              "      <td>sirena_migrante</td>\n",
              "    </tr>\n",
              "    <tr>\n",
              "      <th>14</th>\n",
              "      <td>0</td>\n",
              "      <td>sirena_migrante</td>\n",
              "    </tr>\n",
              "    <tr>\n",
              "      <th>15</th>\n",
              "      <td>0</td>\n",
              "      <td>sirena_migrante</td>\n",
              "    </tr>\n",
              "    <tr>\n",
              "      <th>16</th>\n",
              "      <td>0</td>\n",
              "      <td>sirena_migrante</td>\n",
              "    </tr>\n",
              "    <tr>\n",
              "      <th>17</th>\n",
              "      <td>0</td>\n",
              "      <td>sirena_migrante</td>\n",
              "    </tr>\n",
              "    <tr>\n",
              "      <th>18</th>\n",
              "      <td>1</td>\n",
              "      <td>sirena_endemica</td>\n",
              "    </tr>\n",
              "    <tr>\n",
              "      <th>19</th>\n",
              "      <td>0</td>\n",
              "      <td>sirena_migrante</td>\n",
              "    </tr>\n",
              "    <tr>\n",
              "      <th>20</th>\n",
              "      <td>0</td>\n",
              "      <td>sirena_migrante</td>\n",
              "    </tr>\n",
              "    <tr>\n",
              "      <th>21</th>\n",
              "      <td>1</td>\n",
              "      <td>sirena_endemica</td>\n",
              "    </tr>\n",
              "    <tr>\n",
              "      <th>22</th>\n",
              "      <td>0</td>\n",
              "      <td>sirena_migrante</td>\n",
              "    </tr>\n",
              "    <tr>\n",
              "      <th>23</th>\n",
              "      <td>1</td>\n",
              "      <td>sirena_endemica</td>\n",
              "    </tr>\n",
              "    <tr>\n",
              "      <th>24</th>\n",
              "      <td>1</td>\n",
              "      <td>sirena_endemica</td>\n",
              "    </tr>\n",
              "  </tbody>\n",
              "</table>\n",
              "</div>"
            ],
            "text/plain": [
              "    0          especie\n",
              "0   1  sirena_endemica\n",
              "1   0  sirena_migrante\n",
              "2   1  sirena_endemica\n",
              "3   1  sirena_endemica\n",
              "4   1  sirena_endemica\n",
              "5   1  sirena_endemica\n",
              "6   1  sirena_endemica\n",
              "7   0  sirena_migrante\n",
              "8   1  sirena_endemica\n",
              "9   1  sirena_endemica\n",
              "10  0  sirena_migrante\n",
              "11  0  sirena_migrante\n",
              "12  1  sirena_endemica\n",
              "13  0  sirena_migrante\n",
              "14  0  sirena_migrante\n",
              "15  0  sirena_migrante\n",
              "16  0  sirena_migrante\n",
              "17  0  sirena_migrante\n",
              "18  1  sirena_endemica\n",
              "19  0  sirena_migrante\n",
              "20  0  sirena_migrante\n",
              "21  1  sirena_endemica\n",
              "22  0  sirena_migrante\n",
              "23  1  sirena_endemica\n",
              "24  1  sirena_endemica"
            ]
          },
          "metadata": {
            "tags": []
          },
          "execution_count": 95
        }
      ]
    },
    {
      "cell_type": "code",
      "metadata": {
        "id": "regulated-point",
        "outputId": "910b69c6-7c04-440f-bcb9-3b2676cb0344"
      },
      "source": [
        "sns.set(style=\"whitegrid\")\n",
        "sns.countplot(x='especie', data = y_predict)\n",
        "sns.despine(left=True, bottom=True)"
      ],
      "id": "regulated-point",
      "execution_count": null,
      "outputs": [
        {
          "output_type": "display_data",
          "data": {
            "image/png": "[encoded data removed]",
            "text/plain": [
              "<Figure size 432x288 with 1 Axes>"
            ]
          },
          "metadata": {
            "tags": []
          }
        }
      ]
    },
    {
      "cell_type": "markdown",
      "metadata": {
        "id": "limited-spine"
      },
      "source": [
        "### __*Predicting on New Data*__"
      ],
      "id": "limited-spine"
    },
    {
      "cell_type": "code",
      "metadata": {
        "id": "brazilian-charles"
      },
      "source": [
        "sir = pd.read_csv('sirenas_endemicas_y_sirenas_migrantes.csv')"
      ],
      "id": "brazilian-charles",
      "execution_count": null,
      "outputs": []
    },
    {
      "cell_type": "code",
      "metadata": {
        "id": "crude-biotechnology",
        "outputId": "1ffca238-4d24-4da5-d435-e61a64029588"
      },
      "source": [
        "sir.columns"
      ],
      "id": "crude-biotechnology",
      "execution_count": null,
      "outputs": [
        {
          "output_type": "execute_result",
          "data": {
            "text/plain": [
              "Index(['v1', 'v2', 'v3', 'v4', 'especie'], dtype='object')"
            ]
          },
          "metadata": {
            "tags": []
          },
          "execution_count": 87
        }
      ]
    },
    {
      "cell_type": "code",
      "metadata": {
        "id": "moved-laptop"
      },
      "source": [
        "new_col = ['v1', 'v2', 'v3', 'v4']"
      ],
      "id": "moved-laptop",
      "execution_count": null,
      "outputs": []
    },
    {
      "cell_type": "code",
      "metadata": {
        "id": "interpreted-jersey",
        "outputId": "e891e666-7097-4a00-a7eb-3c656eba3d5c"
      },
      "source": [
        "sir.head()"
      ],
      "id": "interpreted-jersey",
      "execution_count": null,
      "outputs": [
        {
          "output_type": "execute_result",
          "data": {
            "text/html": [
              "<div>\n",
              "<style scoped>\n",
              "    .dataframe tbody tr th:only-of-type {\n",
              "        vertical-align: middle;\n",
              "    }\n",
              "\n",
              "    .dataframe tbody tr th {\n",
              "        vertical-align: top;\n",
              "    }\n",
              "\n",
              "    .dataframe thead th {\n",
              "        text-align: right;\n",
              "    }\n",
              "</style>\n",
              "<table border=\"1\" class=\"dataframe\">\n",
              "  <thead>\n",
              "    <tr style=\"text-align: right;\">\n",
              "      <th></th>\n",
              "      <th>v1</th>\n",
              "      <th>v2</th>\n",
              "      <th>v3</th>\n",
              "      <th>v4</th>\n",
              "      <th>especie</th>\n",
              "    </tr>\n",
              "  </thead>\n",
              "  <tbody>\n",
              "    <tr>\n",
              "      <th>0</th>\n",
              "      <td>6.6</td>\n",
              "      <td>2.3</td>\n",
              "      <td>4.1</td>\n",
              "      <td>1.5</td>\n",
              "      <td>NaN</td>\n",
              "    </tr>\n",
              "    <tr>\n",
              "      <th>1</th>\n",
              "      <td>4.5</td>\n",
              "      <td>2.9</td>\n",
              "      <td>2.4</td>\n",
              "      <td>1.6</td>\n",
              "      <td>NaN</td>\n",
              "    </tr>\n",
              "    <tr>\n",
              "      <th>2</th>\n",
              "      <td>5.7</td>\n",
              "      <td>2.3</td>\n",
              "      <td>6.3</td>\n",
              "      <td>0.4</td>\n",
              "      <td>NaN</td>\n",
              "    </tr>\n",
              "    <tr>\n",
              "      <th>3</th>\n",
              "      <td>5.1</td>\n",
              "      <td>3.3</td>\n",
              "      <td>1.7</td>\n",
              "      <td>2.1</td>\n",
              "      <td>NaN</td>\n",
              "    </tr>\n",
              "    <tr>\n",
              "      <th>4</th>\n",
              "      <td>7.0</td>\n",
              "      <td>4.0</td>\n",
              "      <td>1.0</td>\n",
              "      <td>1.6</td>\n",
              "      <td>NaN</td>\n",
              "    </tr>\n",
              "  </tbody>\n",
              "</table>\n",
              "</div>"
            ],
            "text/plain": [
              "    v1   v2   v3   v4  especie\n",
              "0  6.6  2.3  4.1  1.5      NaN\n",
              "1  4.5  2.9  2.4  1.6      NaN\n",
              "2  5.7  2.3  6.3  0.4      NaN\n",
              "3  5.1  3.3  1.7  2.1      NaN\n",
              "4  7.0  4.0  1.0  1.6      NaN"
            ]
          },
          "metadata": {
            "tags": []
          },
          "execution_count": 89
        }
      ]
    },
    {
      "cell_type": "code",
      "metadata": {
        "id": "shaped-tennis"
      },
      "source": [
        "sir_predict = svm_clf.predict(sir.loc[:,new_col])"
      ],
      "id": "shaped-tennis",
      "execution_count": null,
      "outputs": []
    },
    {
      "cell_type": "code",
      "metadata": {
        "id": "framed-scratch",
        "outputId": "ee541d45-617f-47d5-9f86-e787382d6c5a"
      },
      "source": [
        "sir_predict = pd.DataFrame(sir_predict, columns=['especie'])\n",
        "sir_predict['especies'] = sir_predict.iloc[:,0].apply(original_label)\n",
        "sns.countplot(x='especies', data=sir_predict)"
      ],
      "id": "framed-scratch",
      "execution_count": null,
      "outputs": [
        {
          "output_type": "execute_result",
          "data": {
            "text/plain": [
              "<AxesSubplot:xlabel='especies', ylabel='count'>"
            ]
          },
          "metadata": {
            "tags": []
          },
          "execution_count": 109
        },
        {
          "output_type": "display_data",
          "data": {
            "image/png": "[encoded data removed]",
            "text/plain": [
              "<Figure size 432x288 with 1 Axes>"
            ]
          },
          "metadata": {
            "tags": []
          }
        }
      ]
    },
    {
      "cell_type": "code",
      "metadata": {
        "id": "seasonal-plastic"
      },
      "source": [
        "sir['especies'] = sir_predict['especies']"
      ],
      "id": "seasonal-plastic",
      "execution_count": null,
      "outputs": []
    },
    {
      "cell_type": "code",
      "metadata": {
        "id": "broad-lender",
        "outputId": "379cbc9c-5764-4d75-ec91-54b6b08e6091"
      },
      "source": [
        "sir.columns"
      ],
      "id": "broad-lender",
      "execution_count": null,
      "outputs": [
        {
          "output_type": "execute_result",
          "data": {
            "text/plain": [
              "Index(['v1', 'v2', 'v3', 'v4', 'especie', 'especies'], dtype='object')"
            ]
          },
          "metadata": {
            "tags": []
          },
          "execution_count": 106
        }
      ]
    },
    {
      "cell_type": "code",
      "metadata": {
        "id": "gentle-rolling",
        "outputId": "209aad68-23a4-42d3-f5ae-347d994effe0"
      },
      "source": [
        "sir.groupby('especies').agg({\n",
        "                               'v1': np.mean\n",
        "                              ,'v2': np.mean  \n",
        "                              ,'v3': np.mean\n",
        "                              ,'v4': np.mean\n",
        "                              }).round(2)"
      ],
      "id": "gentle-rolling",
      "execution_count": null,
      "outputs": [
        {
          "output_type": "execute_result",
          "data": {
            "text/html": [
              "<div>\n",
              "<style scoped>\n",
              "    .dataframe tbody tr th:only-of-type {\n",
              "        vertical-align: middle;\n",
              "    }\n",
              "\n",
              "    .dataframe tbody tr th {\n",
              "        vertical-align: top;\n",
              "    }\n",
              "\n",
              "    .dataframe thead th {\n",
              "        text-align: right;\n",
              "    }\n",
              "</style>\n",
              "<table border=\"1\" class=\"dataframe\">\n",
              "  <thead>\n",
              "    <tr style=\"text-align: right;\">\n",
              "      <th></th>\n",
              "      <th>v1</th>\n",
              "      <th>v2</th>\n",
              "      <th>v3</th>\n",
              "      <th>v4</th>\n",
              "    </tr>\n",
              "    <tr>\n",
              "      <th>especies</th>\n",
              "      <th></th>\n",
              "      <th></th>\n",
              "      <th></th>\n",
              "      <th></th>\n",
              "    </tr>\n",
              "  </thead>\n",
              "  <tbody>\n",
              "    <tr>\n",
              "      <th>sirena_endemica</th>\n",
              "      <td>6.42</td>\n",
              "      <td>3.36</td>\n",
              "      <td>4.27</td>\n",
              "      <td>1.37</td>\n",
              "    </tr>\n",
              "    <tr>\n",
              "      <th>sirena_migrante</th>\n",
              "      <td>5.15</td>\n",
              "      <td>3.56</td>\n",
              "      <td>2.66</td>\n",
              "      <td>1.25</td>\n",
              "    </tr>\n",
              "  </tbody>\n",
              "</table>\n",
              "</div>"
            ],
            "text/plain": [
              "                   v1    v2    v3    v4\n",
              "especies                               \n",
              "sirena_endemica  6.42  3.36  4.27  1.37\n",
              "sirena_migrante  5.15  3.56  2.66  1.25"
            ]
          },
          "metadata": {
            "tags": []
          },
          "execution_count": 111
        }
      ]
    },
    {
      "cell_type": "code",
      "metadata": {
        "id": "seventh-crowd",
        "outputId": "0ba05c24-cf24-4fd0-ff43-61d0ccaae55c"
      },
      "source": [
        "values = ['v1', 'v2', 'v3', 'v4', 'especies']\n",
        "# sir.loc[:, values].to_csv('sirenas_endemicas_y_sirenas_migrantes.csv')\n",
        "sir.loc[:, values].head(10)"
      ],
      "id": "seventh-crowd",
      "execution_count": null,
      "outputs": [
        {
          "output_type": "execute_result",
          "data": {
            "text/html": [
              "<div>\n",
              "<style scoped>\n",
              "    .dataframe tbody tr th:only-of-type {\n",
              "        vertical-align: middle;\n",
              "    }\n",
              "\n",
              "    .dataframe tbody tr th {\n",
              "        vertical-align: top;\n",
              "    }\n",
              "\n",
              "    .dataframe thead th {\n",
              "        text-align: right;\n",
              "    }\n",
              "</style>\n",
              "<table border=\"1\" class=\"dataframe\">\n",
              "  <thead>\n",
              "    <tr style=\"text-align: right;\">\n",
              "      <th></th>\n",
              "      <th>v1</th>\n",
              "      <th>v2</th>\n",
              "      <th>v3</th>\n",
              "      <th>v4</th>\n",
              "      <th>especies</th>\n",
              "    </tr>\n",
              "  </thead>\n",
              "  <tbody>\n",
              "    <tr>\n",
              "      <th>0</th>\n",
              "      <td>6.6</td>\n",
              "      <td>2.3</td>\n",
              "      <td>4.1</td>\n",
              "      <td>1.5</td>\n",
              "      <td>sirena_endemica</td>\n",
              "    </tr>\n",
              "    <tr>\n",
              "      <th>1</th>\n",
              "      <td>4.5</td>\n",
              "      <td>2.9</td>\n",
              "      <td>2.4</td>\n",
              "      <td>1.6</td>\n",
              "      <td>sirena_migrante</td>\n",
              "    </tr>\n",
              "    <tr>\n",
              "      <th>2</th>\n",
              "      <td>5.7</td>\n",
              "      <td>2.3</td>\n",
              "      <td>6.3</td>\n",
              "      <td>0.4</td>\n",
              "      <td>sirena_endemica</td>\n",
              "    </tr>\n",
              "    <tr>\n",
              "      <th>3</th>\n",
              "      <td>5.1</td>\n",
              "      <td>3.3</td>\n",
              "      <td>1.7</td>\n",
              "      <td>2.1</td>\n",
              "      <td>sirena_migrante</td>\n",
              "    </tr>\n",
              "    <tr>\n",
              "      <th>4</th>\n",
              "      <td>7.0</td>\n",
              "      <td>4.0</td>\n",
              "      <td>1.0</td>\n",
              "      <td>1.6</td>\n",
              "      <td>sirena_migrante</td>\n",
              "    </tr>\n",
              "    <tr>\n",
              "      <th>5</th>\n",
              "      <td>7.6</td>\n",
              "      <td>2.3</td>\n",
              "      <td>2.1</td>\n",
              "      <td>1.2</td>\n",
              "      <td>sirena_endemica</td>\n",
              "    </tr>\n",
              "    <tr>\n",
              "      <th>6</th>\n",
              "      <td>4.7</td>\n",
              "      <td>3.3</td>\n",
              "      <td>5.6</td>\n",
              "      <td>1.8</td>\n",
              "      <td>sirena_endemica</td>\n",
              "    </tr>\n",
              "    <tr>\n",
              "      <th>7</th>\n",
              "      <td>4.9</td>\n",
              "      <td>3.8</td>\n",
              "      <td>2.0</td>\n",
              "      <td>2.4</td>\n",
              "      <td>sirena_migrante</td>\n",
              "    </tr>\n",
              "    <tr>\n",
              "      <th>8</th>\n",
              "      <td>7.4</td>\n",
              "      <td>3.0</td>\n",
              "      <td>4.3</td>\n",
              "      <td>0.8</td>\n",
              "      <td>sirena_endemica</td>\n",
              "    </tr>\n",
              "    <tr>\n",
              "      <th>9</th>\n",
              "      <td>6.0</td>\n",
              "      <td>3.0</td>\n",
              "      <td>2.5</td>\n",
              "      <td>2.1</td>\n",
              "      <td>sirena_endemica</td>\n",
              "    </tr>\n",
              "  </tbody>\n",
              "</table>\n",
              "</div>"
            ],
            "text/plain": [
              "    v1   v2   v3   v4         especies\n",
              "0  6.6  2.3  4.1  1.5  sirena_endemica\n",
              "1  4.5  2.9  2.4  1.6  sirena_migrante\n",
              "2  5.7  2.3  6.3  0.4  sirena_endemica\n",
              "3  5.1  3.3  1.7  2.1  sirena_migrante\n",
              "4  7.0  4.0  1.0  1.6  sirena_migrante\n",
              "5  7.6  2.3  2.1  1.2  sirena_endemica\n",
              "6  4.7  3.3  5.6  1.8  sirena_endemica\n",
              "7  4.9  3.8  2.0  2.4  sirena_migrante\n",
              "8  7.4  3.0  4.3  0.8  sirena_endemica\n",
              "9  6.0  3.0  2.5  2.1  sirena_endemica"
            ]
          },
          "metadata": {
            "tags": []
          },
          "execution_count": 113
        }
      ]
    }
  ]
}