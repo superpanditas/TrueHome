{
  "nbformat": 4,
  "nbformat_minor": 5,
  "metadata": {
    "kernelspec": {
      "display_name": "Python 3",
      "language": "python",
      "name": "python3"
    },
    "language_info": {
      "codemirror_mode": {
        "name": "ipython",
        "version": 3
      },
      "file_extension": ".py",
      "mimetype": "text/x-python",
      "name": "python",
      "nbconvert_exporter": "python",
      "pygments_lexer": "ipython3",
      "version": "3.7.3"
    },
    "colab": {
      "name": "sirenas_endemicas_y_sirenas_migrantes.ipynb",
      "provenance": [],
      "include_colab_link": true
    }
  },
  "cells": [
    {
      "cell_type": "markdown",
      "metadata": {
        "id": "view-in-github",
        "colab_type": "text"
      },
      "source": [
        "<a href=\"https://colab.research.google.com/github/superpanditas/TrueHome/blob/main/sirenas_endemicas_y_sirenas_migrantes.ipynb\" target=\"_parent\"><img src=\"https://colab.research.google.com/assets/colab-badge.svg\" alt=\"Open In Colab\"/></a>"
      ]
    },
    {
      "cell_type": "markdown",
      "metadata": {
        "id": "overall-parish"
      },
      "source": [
        "### __*Importing Libraries*__"
      ],
      "id": "overall-parish"
    },
    {
      "cell_type": "code",
      "metadata": {
        "colab": {
          "base_uri": "https://localhost:8080/"
        },
        "id": "lDmVDSDSLz9A",
        "outputId": "2d1b1a9d-f5c4-49ec-e5d3-8e29f02e94de"
      },
      "source": [
        "!pip install seaborn"
      ],
      "id": "lDmVDSDSLz9A",
      "execution_count": null,
      "outputs": [
        {
          "output_type": "stream",
          "text": [
            "Requirement already satisfied: seaborn in /usr/local/lib/python3.7/dist-packages (0.11.1)\n",
            "Requirement already satisfied: pandas>=0.23 in /usr/local/lib/python3.7/dist-packages (from seaborn) (1.1.5)\n",
            "Requirement already satisfied: scipy>=1.0 in /usr/local/lib/python3.7/dist-packages (from seaborn) (1.4.1)\n",
            "Requirement already satisfied: numpy>=1.15 in /usr/local/lib/python3.7/dist-packages (from seaborn) (1.19.5)\n",
            "Requirement already satisfied: matplotlib>=2.2 in /usr/local/lib/python3.7/dist-packages (from seaborn) (3.2.2)\n",
            "Requirement already satisfied: python-dateutil>=2.1 in /usr/local/lib/python3.7/dist-packages (from matplotlib>=2.2->seaborn) (2.8.1)\n",
            "Requirement already satisfied: cycler>=0.10 in /usr/local/lib/python3.7/dist-packages (from matplotlib>=2.2->seaborn) (0.10.0)\n",
            "Requirement already satisfied: pyparsing!=2.0.4,!=2.1.2,!=2.1.6,>=2.0.1 in /usr/local/lib/python3.7/dist-packages (from matplotlib>=2.2->seaborn) (2.4.7)\n",
            "Requirement already satisfied: kiwisolver>=1.0.1 in /usr/local/lib/python3.7/dist-packages (from matplotlib>=2.2->seaborn) (1.3.1)\n",
            "Requirement already satisfied: six in /usr/local/lib/python3.7/dist-packages (from cycler>=0.10->matplotlib>=2.2->seaborn) (1.15.0)\n",
            "Requirement already satisfied: pytz>=2017.2 in /usr/local/lib/python3.7/dist-packages (from pandas>=0.23->seaborn) (2018.9)\n"
          ],
          "name": "stdout"
        }
      ]
    },
    {
      "cell_type": "markdown",
      "metadata": {
        "id": "funded-vocabulary"
      },
      "source": [
        "## __*Desafio: El seductor canto de las sirenas*__"
      ],
      "id": "funded-vocabulary"
    },
    {
      "cell_type": "markdown",
      "metadata": {
        "id": "NIr_Ni283xjQ"
      },
      "source": [
        "#### Loading Libraries"
      ],
      "id": "NIr_Ni283xjQ"
    },
    {
      "cell_type": "code",
      "metadata": {
        "id": "architectural-munich"
      },
      "source": [
        "import pandas as pd\n",
        "import numpy as np \n",
        "import matplotlib.pyplot as plt\n",
        "import seaborn as sns"
      ],
      "id": "architectural-munich",
      "execution_count": null,
      "outputs": []
    },
    {
      "cell_type": "markdown",
      "metadata": {
        "id": "purple-respect"
      },
      "source": [
        "#### Importing Dataset"
      ],
      "id": "purple-respect"
    },
    {
      "cell_type": "code",
      "metadata": {
        "id": "n7T-xWdG4iYm",
        "colab": {
          "base_uri": "https://localhost:8080/"
        },
        "outputId": "6698ee6c-b525-4230-8346-f657d22a1f33"
      },
      "source": [
        "!git clone  https://github.com/superpanditas/TrueHome.git"
      ],
      "id": "n7T-xWdG4iYm",
      "execution_count": 75,
      "outputs": [
        {
          "output_type": "stream",
          "text": [
            "Cloning into 'TrueHome'...\n",
            "remote: Enumerating objects: 28, done.\u001b[K\n",
            "remote: Counting objects:   3% (1/28)\u001b[K\rremote: Counting objects:   7% (2/28)\u001b[K\rremote: Counting objects:  10% (3/28)\u001b[K\rremote: Counting objects:  14% (4/28)\u001b[K\rremote: Counting objects:  17% (5/28)\u001b[K\rremote: Counting objects:  21% (6/28)\u001b[K\rremote: Counting objects:  25% (7/28)\u001b[K\rremote: Counting objects:  28% (8/28)\u001b[K\rremote: Counting objects:  32% (9/28)\u001b[K\rremote: Counting objects:  35% (10/28)\u001b[K\rremote: Counting objects:  39% (11/28)\u001b[K\rremote: Counting objects:  42% (12/28)\u001b[K\rremote: Counting objects:  46% (13/28)\u001b[K\rremote: Counting objects:  50% (14/28)\u001b[K\rremote: Counting objects:  53% (15/28)\u001b[K\rremote: Counting objects:  57% (16/28)\u001b[K\rremote: Counting objects:  60% (17/28)\u001b[K\rremote: Counting objects:  64% (18/28)\u001b[K\rremote: Counting objects:  67% (19/28)\u001b[K\rremote: Counting objects:  71% (20/28)\u001b[K\rremote: Counting objects:  75% (21/28)\u001b[K\rremote: Counting objects:  78% (22/28)\u001b[K\rremote: Counting objects:  82% (23/28)\u001b[K\rremote: Counting objects:  85% (24/28)\u001b[K\rremote: Counting objects:  89% (25/28)\u001b[K\rremote: Counting objects:  92% (26/28)\u001b[K\rremote: Counting objects:  96% (27/28)\u001b[K\rremote: Counting objects: 100% (28/28)\u001b[K\rremote: Counting objects: 100% (28/28), done.\u001b[K\n",
            "remote: Compressing objects: 100% (26/26), done.\u001b[K\n",
            "remote: Total 28 (delta 8), reused 0 (delta 0), pack-reused 0\u001b[K\n",
            "Unpacking objects: 100% (28/28), done.\n"
          ],
          "name": "stdout"
        }
      ]
    },
    {
      "cell_type": "code",
      "metadata": {
        "id": "demanding-jamaica"
      },
      "source": [
        "sirenas = pd.read_csv('/content/TrueHome/sirenas_endemicas_y_sirenas_migrantes_historico.csv')"
      ],
      "id": "demanding-jamaica",
      "execution_count": null,
      "outputs": []
    },
    {
      "cell_type": "markdown",
      "metadata": {
        "id": "elder-gothic"
      },
      "source": [
        "__*Review our Dataset*__\n",
        "\n",
        "<ul>\n",
        "    <li> How many rows do we have? </li>\n",
        "    <li> Do we have empty values? </li>\n",
        "    <li> Do we have balance data or not? </li>\n",
        "    <li> How many variables do we have? </li>\n",
        "    <li> ... and so on </li>\n",
        "</ul>"
      ],
      "id": "elder-gothic"
    },
    {
      "cell_type": "code",
      "metadata": {
        "id": "noble-childhood",
        "colab": {
          "base_uri": "https://localhost:8080/"
        },
        "outputId": "cd0e39cb-a6a7-4a31-fdb6-9c1ac29c0a59"
      },
      "source": [
        "sirenas.info()"
      ],
      "id": "noble-childhood",
      "execution_count": null,
      "outputs": [
        {
          "output_type": "stream",
          "text": [
            "<class 'pandas.core.frame.DataFrame'>\n",
            "RangeIndex: 100 entries, 0 to 99\n",
            "Data columns (total 5 columns):\n",
            " #   Column   Non-Null Count  Dtype  \n",
            "---  ------   --------------  -----  \n",
            " 0   v1       100 non-null    float64\n",
            " 1   v2       100 non-null    float64\n",
            " 2   v3       100 non-null    float64\n",
            " 3   v4       100 non-null    float64\n",
            " 4   especie  100 non-null    object \n",
            "dtypes: float64(4), object(1)\n",
            "memory usage: 4.0+ KB\n"
          ],
          "name": "stdout"
        }
      ]
    },
    {
      "cell_type": "code",
      "metadata": {
        "id": "fancy-township",
        "colab": {
          "base_uri": "https://localhost:8080/",
          "height": 286
        },
        "outputId": "50c32281-987b-48a7-9c60-2b4e8050e51c"
      },
      "source": [
        "sns.set(style=\"whitegrid\")\n",
        "sns.countplot(x='especie', data = sirenas)\n",
        "sns.despine(left=True, bottom=True)"
      ],
      "id": "fancy-township",
      "execution_count": null,
      "outputs": [
        {
          "output_type": "display_data",
          "data": {
            "image/png": "[encoded data removed]",
            "text/plain": [
              "<Figure size 432x288 with 1 Axes>"
            ]
          },
          "metadata": {
            "tags": []
          }
        }
      ]
    },
    {
      "cell_type": "code",
      "metadata": {
        "id": "latest-excellence",
        "colab": {
          "base_uri": "https://localhost:8080/",
          "height": 297
        },
        "outputId": "ea888caa-1786-48d9-a210-672d7dce33dc"
      },
      "source": [
        "sirenas.describe().round(3)"
      ],
      "id": "latest-excellence",
      "execution_count": null,
      "outputs": [
        {
          "output_type": "execute_result",
          "data": {
            "text/html": [
              "<div>\n",
              "<style scoped>\n",
              "    .dataframe tbody tr th:only-of-type {\n",
              "        vertical-align: middle;\n",
              "    }\n",
              "\n",
              "    .dataframe tbody tr th {\n",
              "        vertical-align: top;\n",
              "    }\n",
              "\n",
              "    .dataframe thead th {\n",
              "        text-align: right;\n",
              "    }\n",
              "</style>\n",
              "<table border=\"1\" class=\"dataframe\">\n",
              "  <thead>\n",
              "    <tr style=\"text-align: right;\">\n",
              "      <th></th>\n",
              "      <th>v1</th>\n",
              "      <th>v2</th>\n",
              "      <th>v3</th>\n",
              "      <th>v4</th>\n",
              "    </tr>\n",
              "  </thead>\n",
              "  <tbody>\n",
              "    <tr>\n",
              "      <th>count</th>\n",
              "      <td>100.000</td>\n",
              "      <td>100.000</td>\n",
              "      <td>100.000</td>\n",
              "      <td>100.000</td>\n",
              "    </tr>\n",
              "    <tr>\n",
              "      <th>mean</th>\n",
              "      <td>5.797</td>\n",
              "      <td>3.196</td>\n",
              "      <td>3.508</td>\n",
              "      <td>1.135</td>\n",
              "    </tr>\n",
              "    <tr>\n",
              "      <th>std</th>\n",
              "      <td>0.945</td>\n",
              "      <td>0.416</td>\n",
              "      <td>2.094</td>\n",
              "      <td>0.919</td>\n",
              "    </tr>\n",
              "    <tr>\n",
              "      <th>min</th>\n",
              "      <td>4.300</td>\n",
              "      <td>2.200</td>\n",
              "      <td>1.000</td>\n",
              "      <td>0.100</td>\n",
              "    </tr>\n",
              "    <tr>\n",
              "      <th>25%</th>\n",
              "      <td>5.000</td>\n",
              "      <td>3.000</td>\n",
              "      <td>1.500</td>\n",
              "      <td>0.200</td>\n",
              "    </tr>\n",
              "    <tr>\n",
              "      <th>50%</th>\n",
              "      <td>5.700</td>\n",
              "      <td>3.150</td>\n",
              "      <td>3.200</td>\n",
              "      <td>1.000</td>\n",
              "    </tr>\n",
              "    <tr>\n",
              "      <th>75%</th>\n",
              "      <td>6.500</td>\n",
              "      <td>3.400</td>\n",
              "      <td>5.525</td>\n",
              "      <td>2.000</td>\n",
              "    </tr>\n",
              "    <tr>\n",
              "      <th>max</th>\n",
              "      <td>7.900</td>\n",
              "      <td>4.400</td>\n",
              "      <td>6.900</td>\n",
              "      <td>2.500</td>\n",
              "    </tr>\n",
              "  </tbody>\n",
              "</table>\n",
              "</div>"
            ],
            "text/plain": [
              "            v1       v2       v3       v4\n",
              "count  100.000  100.000  100.000  100.000\n",
              "mean     5.797    3.196    3.508    1.135\n",
              "std      0.945    0.416    2.094    0.919\n",
              "min      4.300    2.200    1.000    0.100\n",
              "25%      5.000    3.000    1.500    0.200\n",
              "50%      5.700    3.150    3.200    1.000\n",
              "75%      6.500    3.400    5.525    2.000\n",
              "max      7.900    4.400    6.900    2.500"
            ]
          },
          "metadata": {
            "tags": []
          },
          "execution_count": 8
        }
      ]
    },
    {
      "cell_type": "markdown",
      "metadata": {
        "id": "confidential-symposium"
      },
      "source": [
        "#### Analyze Data"
      ],
      "id": "confidential-symposium"
    },
    {
      "cell_type": "code",
      "metadata": {
        "id": "living-affiliation",
        "colab": {
          "base_uri": "https://localhost:8080/"
        },
        "outputId": "9e32a400-48d9-483c-bd4f-1f887c1fbb12"
      },
      "source": [
        "sirenas.columns"
      ],
      "id": "living-affiliation",
      "execution_count": null,
      "outputs": [
        {
          "output_type": "execute_result",
          "data": {
            "text/plain": [
              "Index(['v1', 'v2', 'v3', 'v4', 'especie'], dtype='object')"
            ]
          },
          "metadata": {
            "tags": []
          },
          "execution_count": 9
        }
      ]
    },
    {
      "cell_type": "code",
      "metadata": {
        "id": "drawn-surrey"
      },
      "source": [
        "col = ['v1', 'v2', 'v3', 'v4']"
      ],
      "id": "drawn-surrey",
      "execution_count": null,
      "outputs": []
    },
    {
      "cell_type": "markdown",
      "metadata": {
        "id": "federal-tomorrow"
      },
      "source": [
        "#### Correlation"
      ],
      "id": "federal-tomorrow"
    },
    {
      "cell_type": "markdown",
      "metadata": {
        "id": "convertible-greece"
      },
      "source": [
        "__*Exist a strong correlation between variables called*__ \n",
        "<li> v1 and (v3, v4) </li>\n",
        "<li> v3 and (v1, v4) </li>\n",
        "<li> v4 and (v1, v3) </li>"
      ],
      "id": "convertible-greece"
    },
    {
      "cell_type": "code",
      "metadata": {
        "id": "victorian-posting",
        "colab": {
          "base_uri": "https://localhost:8080/",
          "height": 397
        },
        "outputId": "51f0913b-d896-4b27-9689-127117b9723b"
      },
      "source": [
        "plt.figure(figsize=(16, 6))\n",
        "heatmap = sns.heatmap(sirenas[col].corr(), vmin=-1, vmax=1, annot=True)\n",
        "heatmap.set_title(\"Correlation of\", fontdict={'fontsize':10}, pad=12);"
      ],
      "id": "victorian-posting",
      "execution_count": null,
      "outputs": [
        {
          "output_type": "display_data",
          "data": {
            "image/png": "[encoded data removed]",
            "text/plain": [
              "<Figure size 1152x432 with 2 Axes>"
            ]
          },
          "metadata": {
            "tags": []
          }
        }
      ]
    },
    {
      "cell_type": "markdown",
      "metadata": {
        "id": "executed-disorder"
      },
      "source": [
        "__*The variables named v3 and v4 have a good distribution to differentiate between classes, and I also noticed some outliers in each variable.\n",
        "Highlighting outliers in v1 and v2 because we can misclassify since the dispersion between them is very close.*__"
      ],
      "id": "executed-disorder"
    },
    {
      "cell_type": "code",
      "metadata": {
        "id": "material-daniel",
        "colab": {
          "base_uri": "https://localhost:8080/",
          "height": 615
        },
        "outputId": "8bec5275-dbad-436b-bd33-391e0d1b9724"
      },
      "source": [
        "sns.set(style='whitegrid')\n",
        "fig = plt.figure(figsize=(10,10))\n",
        "my_pal = {\"sirena_migrante\": \"r\", \"sirena_endemica\": \"g\"}\n",
        "# plot (1,1)\n",
        "plt.subplot(2,2,1)\n",
        "sns.boxplot(x='especie', y='v1', data=sirenas, palette=my_pal)\n",
        "sns.despine(left=True, bottom=True)\n",
        "\n",
        "# plot(1,2)\n",
        "plt.subplot(2,2,2)\n",
        "sns.boxplot(x='especie', y='v2', data=sirenas, palette=my_pal)\n",
        "sns.despine(left=True, bottom=True)\n",
        "\n",
        "# plot(2,1)\n",
        "plt.subplot(2,2,3)\n",
        "sns.boxplot(x='especie', y='v3', data=sirenas, palette=my_pal)\n",
        "sns.despine(left=True, bottom=True)\n",
        "\n",
        "# plot(2,2)\n",
        "plt.subplot(2,2,4)\n",
        "sns.boxplot(x='especie', y='v4', data=sirenas, palette=my_pal)\n",
        "sns.despine(left=True, bottom=True)"
      ],
      "id": "material-daniel",
      "execution_count": null,
      "outputs": [
        {
          "output_type": "display_data",
          "data": {
            "image/png": "[encoded data removed]",
            "text/plain": [
              "<Figure size 720x720 with 4 Axes>"
            ]
          },
          "metadata": {
            "tags": []
          }
        }
      ]
    },
    {
      "cell_type": "markdown",
      "metadata": {
        "id": "collaborative-piece"
      },
      "source": [
        "__*Visualize distribution of our variables according of the class*__"
      ],
      "id": "collaborative-piece"
    },
    {
      "cell_type": "code",
      "metadata": {
        "id": "looking-hardwood",
        "colab": {
          "base_uri": "https://localhost:8080/",
          "height": 628
        },
        "outputId": "d7c03b20-465d-443c-c3ee-dbe468f445c6"
      },
      "source": [
        "sns.set(style='whitegrid')\n",
        "\n",
        "f, axs = plt.subplots(2, 2, figsize=(10, 10), sharex=False)\n",
        "sns.despine(left=True, bottom=True)\n",
        "\n",
        "my_pal = {\"sirena_migrante\": \"r\", \"sirena_endemica\": \"g\"}\n",
        "\n",
        "# plot (1,1)\n",
        "sns.histplot(data=sirenas, x='v1', hue='especie', palette=my_pal, kde=True, ax=axs[0, 0])\n",
        "\n",
        "# plot(1,2)\n",
        "sns.histplot(data=sirenas, x='v2', hue='especie', palette=my_pal, kde=True, ax=axs[0, 1])\n",
        "\n",
        "# plot(2,1)\n",
        "sns.histplot(data=sirenas, x='v3', hue='especie', palette=my_pal, kde=True, ax=axs[1, 0])\n",
        "\n",
        "# plot(2,2)\n",
        "sns.histplot(data=sirenas, x='v4', hue='especie', palette=my_pal, kde=True, ax=axs[1, 1])"
      ],
      "id": "looking-hardwood",
      "execution_count": null,
      "outputs": [
        {
          "output_type": "execute_result",
          "data": {
            "text/plain": [
              "<matplotlib.axes._subplots.AxesSubplot at 0x7f5cc115b650>"
            ]
          },
          "metadata": {
            "tags": []
          },
          "execution_count": 13
        },
        {
          "output_type": "display_data",
          "data": {
            "image/png": "[encoded data removed]",
            "text/plain": [
              "<Figure size 720x720 with 4 Axes>"
            ]
          },
          "metadata": {
            "tags": []
          }
        }
      ]
    },
    {
      "cell_type": "markdown",
      "metadata": {
        "id": "spiritual-retailer"
      },
      "source": [
        "__*Visualize distribution of our variables, just var 2 is similar a normal distribution and the rest are bimodal.*__"
      ],
      "id": "spiritual-retailer"
    },
    {
      "cell_type": "code",
      "metadata": {
        "id": "local-compound",
        "colab": {
          "base_uri": "https://localhost:8080/",
          "height": 628
        },
        "outputId": "9a5c10a5-d469-435a-a692-05cabb9024ad"
      },
      "source": [
        "sns.set(style='dark')\n",
        "\n",
        "f, axs = plt.subplots(2, 2, figsize=(10, 10), sharex=False)\n",
        "sns.despine(left=True, bottom=True)\n",
        "\n",
        "# plot (1,1)\n",
        "sns.histplot(data=sirenas, x='v1', kde=True, ax=axs[0, 0])\n",
        "\n",
        "# plot(1,2)\n",
        "sns.histplot(data=sirenas, x='v2', kde=True, ax=axs[0, 1])\n",
        "\n",
        "# plot(2,1)\n",
        "sns.histplot(data=sirenas, x='v3', kde=True, ax=axs[1, 0])\n",
        "\n",
        "# plot(2,2)\n",
        "sns.histplot(data=sirenas, x='v4', kde=True, ax=axs[1, 1])"
      ],
      "id": "local-compound",
      "execution_count": null,
      "outputs": [
        {
          "output_type": "execute_result",
          "data": {
            "text/plain": [
              "<matplotlib.axes._subplots.AxesSubplot at 0x7f5cbec35550>"
            ]
          },
          "metadata": {
            "tags": []
          },
          "execution_count": 14
        },
        {
          "output_type": "display_data",
          "data": {
            "image/png": "[encoded data removed]",
            "text/plain": [
              "<Figure size 720x720 with 4 Axes>"
            ]
          },
          "metadata": {
            "tags": []
          }
        }
      ]
    },
    {
      "cell_type": "markdown",
      "metadata": {
        "id": "suburban-dress"
      },
      "source": [
        "### __*Applying PCA to visualize the data*__"
      ],
      "id": "suburban-dress"
    },
    {
      "cell_type": "markdown",
      "metadata": {
        "id": "historic-prophet"
      },
      "source": [
        "__*Before applying PCA we need to scale features because PCA is affected by scale*__"
      ],
      "id": "historic-prophet"
    },
    {
      "cell_type": "code",
      "metadata": {
        "id": "quantitative-reservation"
      },
      "source": [
        "from sklearn.preprocessing import StandardScaler\n",
        "\n",
        "x_pca = sirenas.loc[:, col].values\n",
        "\n",
        "y_pca = sirenas.loc[:, ['especie']].values\n",
        "\n",
        "x_pca = StandardScaler().fit_transform(x_pca)"
      ],
      "id": "quantitative-reservation",
      "execution_count": null,
      "outputs": []
    },
    {
      "cell_type": "markdown",
      "metadata": {
        "id": "everyday-vocabulary"
      },
      "source": [
        "__*Applying PCA with 2 variables and visualize the data*__"
      ],
      "id": "everyday-vocabulary"
    },
    {
      "cell_type": "code",
      "metadata": {
        "id": "latest-moses"
      },
      "source": [
        "from sklearn.decomposition import PCA\n",
        "\n",
        "pca = PCA(n_components=2)\n",
        "pComponents = pca.fit_transform(x_pca)\n",
        "pData = pd.DataFrame(data = pComponents, columns = ['pComponent 1', 'pComponent 2'])"
      ],
      "id": "latest-moses",
      "execution_count": null,
      "outputs": []
    },
    {
      "cell_type": "code",
      "metadata": {
        "id": "optional-wisdom"
      },
      "source": [
        "pcaData = pd.concat([pData, sirenas[['especie']]], axis = 1)"
      ],
      "id": "optional-wisdom",
      "execution_count": null,
      "outputs": []
    },
    {
      "cell_type": "code",
      "metadata": {
        "id": "hydraulic-decimal"
      },
      "source": [
        "# pca.explained_variance_ratio_"
      ],
      "id": "hydraulic-decimal",
      "execution_count": null,
      "outputs": []
    },
    {
      "cell_type": "markdown",
      "metadata": {
        "id": "divine-aluminum"
      },
      "source": [
        "__*In effect, we can separate our data in a linear way*__"
      ],
      "id": "divine-aluminum"
    },
    {
      "cell_type": "code",
      "metadata": {
        "id": "english-characteristic",
        "colab": {
          "base_uri": "https://localhost:8080/",
          "height": 525
        },
        "outputId": "d2f85df9-1a1f-4c30-e1ea-9e324428f3a8"
      },
      "source": [
        "fig = plt.figure(figsize = (8,8))\n",
        "\n",
        "ax = fig.add_subplot(1,1,1) \n",
        "ax.set_xlabel('P Component 1', fontsize = 15)\n",
        "ax.set_ylabel('P Component 2', fontsize = 15)\n",
        "ax.set_title('Two Components PCA', fontsize = 20)\n",
        "\n",
        "labels = ['sirena_migrante', 'sirena_endemica']\n",
        "colors = ['r', 'g']\n",
        "\n",
        "for label, color in zip(labels,colors):\n",
        "    idx = pcaData['especie'] == label\n",
        "    ax.scatter(pcaData.loc[idx, 'pComponent 1']\n",
        "               , pcaData.loc[idx, 'pComponent 2']\n",
        "               , c = color\n",
        "               , s = 50)\n",
        "ax.legend(labels)\n",
        "ax.grid()"
      ],
      "id": "english-characteristic",
      "execution_count": null,
      "outputs": [
        {
          "output_type": "display_data",
          "data": {
            "image/png": "[encoded data removed]",
            "text/plain": [
              "<Figure size 576x576 with 1 Axes>"
            ]
          },
          "metadata": {
            "tags": []
          }
        }
      ]
    },
    {
      "cell_type": "markdown",
      "metadata": {
        "id": "beneficial-binding"
      },
      "source": [
        "### __*Using SVM to build a model*__"
      ],
      "id": "beneficial-binding"
    },
    {
      "cell_type": "code",
      "metadata": {
        "id": "renewable-lucas"
      },
      "source": [
        "def change_label(dta):\n",
        "    if dta == 'sirena_migrante':\n",
        "        return 0\n",
        "    else:\n",
        "        return 1\n",
        "    \n",
        "sirenas['especie_label'] = sirenas['especie'].apply(change_label)"
      ],
      "id": "renewable-lucas",
      "execution_count": null,
      "outputs": []
    },
    {
      "cell_type": "code",
      "metadata": {
        "id": "assisted-mustang"
      },
      "source": [
        "from sklearn.svm import LinearSVC\n",
        "from sklearn.model_selection import train_test_split\n",
        "\n",
        "X = sirenas.loc[:, col]\n",
        "Y = sirenas.loc[:, ['especie_label']]\n",
        "\n",
        "x_train, x_test, y_train, y_test = train_test_split(X, Y, test_size=0.25, stratify=Y, random_state=30)"
      ],
      "id": "assisted-mustang",
      "execution_count": null,
      "outputs": []
    },
    {
      "cell_type": "code",
      "metadata": {
        "id": "balanced-center",
        "colab": {
          "base_uri": "https://localhost:8080/"
        },
        "outputId": "a55b46c4-7515-4981-d42f-72eb42deb96f"
      },
      "source": [
        "print(\"Train Feature Shape\", x_train.shape)\n",
        "print(\"Train Label Shape\", y_train.shape)"
      ],
      "id": "balanced-center",
      "execution_count": null,
      "outputs": [
        {
          "output_type": "stream",
          "text": [
            "Train Feature Shape (75, 4)\n",
            "Train Label Shape (75, 1)\n"
          ],
          "name": "stdout"
        }
      ]
    },
    {
      "cell_type": "markdown",
      "metadata": {
        "id": "regional-butterfly"
      },
      "source": [
        "__*Using pipeline to build a model*__"
      ],
      "id": "regional-butterfly"
    },
    {
      "cell_type": "code",
      "metadata": {
        "id": "spread-parliament"
      },
      "source": [
        "from sklearn.pipeline import Pipeline\n",
        "\n",
        "svm_clf = Pipeline([\n",
        "    ('scale', StandardScaler()),\n",
        "    ('pca', PCA(n_components=2)),\n",
        "    ('linear_svc', LinearSVC(C=1, loss='hinge'))\n",
        "])"
      ],
      "id": "spread-parliament",
      "execution_count": null,
      "outputs": []
    },
    {
      "cell_type": "code",
      "metadata": {
        "id": "adverse-wonder",
        "colab": {
          "base_uri": "https://localhost:8080/"
        },
        "outputId": "7b670492-3630-4ba1-f449-94d471074bd2"
      },
      "source": [
        "svm_clf.fit(x_train, y_train)"
      ],
      "id": "adverse-wonder",
      "execution_count": null,
      "outputs": [
        {
          "output_type": "stream",
          "text": [
            "/usr/local/lib/python3.7/dist-packages/sklearn/utils/validation.py:760: DataConversionWarning: A column-vector y was passed when a 1d array was expected. Please change the shape of y to (n_samples, ), for example using ravel().\n",
            "  y = column_or_1d(y, warn=True)\n"
          ],
          "name": "stderr"
        },
        {
          "output_type": "execute_result",
          "data": {
            "text/plain": [
              "Pipeline(memory=None,\n",
              "         steps=[('scale',\n",
              "                 StandardScaler(copy=True, with_mean=True, with_std=True)),\n",
              "                ('pca',\n",
              "                 PCA(copy=True, iterated_power='auto', n_components=2,\n",
              "                     random_state=None, svd_solver='auto', tol=0.0,\n",
              "                     whiten=False)),\n",
              "                ('linear_svc',\n",
              "                 LinearSVC(C=1, class_weight=None, dual=True,\n",
              "                           fit_intercept=True, intercept_scaling=1,\n",
              "                           loss='hinge', max_iter=1000, multi_class='ovr',\n",
              "                           penalty='l2', random_state=None, tol=0.0001,\n",
              "                           verbose=0))],\n",
              "         verbose=False)"
            ]
          },
          "metadata": {
            "tags": []
          },
          "execution_count": 24
        }
      ]
    },
    {
      "cell_type": "code",
      "metadata": {
        "id": "backed-vietnam"
      },
      "source": [
        "y_predict = svm_clf.predict(x_test)"
      ],
      "id": "backed-vietnam",
      "execution_count": null,
      "outputs": []
    },
    {
      "cell_type": "code",
      "metadata": {
        "id": "suburban-tulsa",
        "colab": {
          "base_uri": "https://localhost:8080/"
        },
        "outputId": "3cc5e2d2-f68c-4a33-8bad-b8c6e50facdd"
      },
      "source": [
        "from sklearn.metrics import confusion_matrix\n",
        "matrix = confusion_matrix(y_test, y_predict)\n",
        "matrix"
      ],
      "id": "suburban-tulsa",
      "execution_count": null,
      "outputs": [
        {
          "output_type": "execute_result",
          "data": {
            "text/plain": [
              "array([[12,  0],\n",
              "       [ 0, 13]])"
            ]
          },
          "metadata": {
            "tags": []
          },
          "execution_count": 26
        }
      ]
    },
    {
      "cell_type": "code",
      "metadata": {
        "id": "vietnamese-throat",
        "colab": {
          "base_uri": "https://localhost:8080/",
          "height": 824
        },
        "outputId": "d68416f1-0f1d-411b-be25-9dbfb21351a7"
      },
      "source": [
        "def original_label(dta):\n",
        "    if dta == 0:\n",
        "        return 'sirena_migrante'\n",
        "    else:\n",
        "        return 'sirena_endemica'\n",
        "\n",
        "y_predict = pd.DataFrame(y_predict)\n",
        "y_predict['especie'] = y_predict.iloc[:,0].apply(original_label)\n",
        "y_predict"
      ],
      "id": "vietnamese-throat",
      "execution_count": null,
      "outputs": [
        {
          "output_type": "execute_result",
          "data": {
            "text/html": [
              "<div>\n",
              "<style scoped>\n",
              "    .dataframe tbody tr th:only-of-type {\n",
              "        vertical-align: middle;\n",
              "    }\n",
              "\n",
              "    .dataframe tbody tr th {\n",
              "        vertical-align: top;\n",
              "    }\n",
              "\n",
              "    .dataframe thead th {\n",
              "        text-align: right;\n",
              "    }\n",
              "</style>\n",
              "<table border=\"1\" class=\"dataframe\">\n",
              "  <thead>\n",
              "    <tr style=\"text-align: right;\">\n",
              "      <th></th>\n",
              "      <th>0</th>\n",
              "      <th>especie</th>\n",
              "    </tr>\n",
              "  </thead>\n",
              "  <tbody>\n",
              "    <tr>\n",
              "      <th>0</th>\n",
              "      <td>1</td>\n",
              "      <td>sirena_endemica</td>\n",
              "    </tr>\n",
              "    <tr>\n",
              "      <th>1</th>\n",
              "      <td>0</td>\n",
              "      <td>sirena_migrante</td>\n",
              "    </tr>\n",
              "    <tr>\n",
              "      <th>2</th>\n",
              "      <td>1</td>\n",
              "      <td>sirena_endemica</td>\n",
              "    </tr>\n",
              "    <tr>\n",
              "      <th>3</th>\n",
              "      <td>1</td>\n",
              "      <td>sirena_endemica</td>\n",
              "    </tr>\n",
              "    <tr>\n",
              "      <th>4</th>\n",
              "      <td>1</td>\n",
              "      <td>sirena_endemica</td>\n",
              "    </tr>\n",
              "    <tr>\n",
              "      <th>5</th>\n",
              "      <td>1</td>\n",
              "      <td>sirena_endemica</td>\n",
              "    </tr>\n",
              "    <tr>\n",
              "      <th>6</th>\n",
              "      <td>1</td>\n",
              "      <td>sirena_endemica</td>\n",
              "    </tr>\n",
              "    <tr>\n",
              "      <th>7</th>\n",
              "      <td>0</td>\n",
              "      <td>sirena_migrante</td>\n",
              "    </tr>\n",
              "    <tr>\n",
              "      <th>8</th>\n",
              "      <td>1</td>\n",
              "      <td>sirena_endemica</td>\n",
              "    </tr>\n",
              "    <tr>\n",
              "      <th>9</th>\n",
              "      <td>1</td>\n",
              "      <td>sirena_endemica</td>\n",
              "    </tr>\n",
              "    <tr>\n",
              "      <th>10</th>\n",
              "      <td>0</td>\n",
              "      <td>sirena_migrante</td>\n",
              "    </tr>\n",
              "    <tr>\n",
              "      <th>11</th>\n",
              "      <td>0</td>\n",
              "      <td>sirena_migrante</td>\n",
              "    </tr>\n",
              "    <tr>\n",
              "      <th>12</th>\n",
              "      <td>1</td>\n",
              "      <td>sirena_endemica</td>\n",
              "    </tr>\n",
              "    <tr>\n",
              "      <th>13</th>\n",
              "      <td>0</td>\n",
              "      <td>sirena_migrante</td>\n",
              "    </tr>\n",
              "    <tr>\n",
              "      <th>14</th>\n",
              "      <td>0</td>\n",
              "      <td>sirena_migrante</td>\n",
              "    </tr>\n",
              "    <tr>\n",
              "      <th>15</th>\n",
              "      <td>0</td>\n",
              "      <td>sirena_migrante</td>\n",
              "    </tr>\n",
              "    <tr>\n",
              "      <th>16</th>\n",
              "      <td>0</td>\n",
              "      <td>sirena_migrante</td>\n",
              "    </tr>\n",
              "    <tr>\n",
              "      <th>17</th>\n",
              "      <td>0</td>\n",
              "      <td>sirena_migrante</td>\n",
              "    </tr>\n",
              "    <tr>\n",
              "      <th>18</th>\n",
              "      <td>1</td>\n",
              "      <td>sirena_endemica</td>\n",
              "    </tr>\n",
              "    <tr>\n",
              "      <th>19</th>\n",
              "      <td>0</td>\n",
              "      <td>sirena_migrante</td>\n",
              "    </tr>\n",
              "    <tr>\n",
              "      <th>20</th>\n",
              "      <td>0</td>\n",
              "      <td>sirena_migrante</td>\n",
              "    </tr>\n",
              "    <tr>\n",
              "      <th>21</th>\n",
              "      <td>1</td>\n",
              "      <td>sirena_endemica</td>\n",
              "    </tr>\n",
              "    <tr>\n",
              "      <th>22</th>\n",
              "      <td>0</td>\n",
              "      <td>sirena_migrante</td>\n",
              "    </tr>\n",
              "    <tr>\n",
              "      <th>23</th>\n",
              "      <td>1</td>\n",
              "      <td>sirena_endemica</td>\n",
              "    </tr>\n",
              "    <tr>\n",
              "      <th>24</th>\n",
              "      <td>1</td>\n",
              "      <td>sirena_endemica</td>\n",
              "    </tr>\n",
              "  </tbody>\n",
              "</table>\n",
              "</div>"
            ],
            "text/plain": [
              "    0          especie\n",
              "0   1  sirena_endemica\n",
              "1   0  sirena_migrante\n",
              "2   1  sirena_endemica\n",
              "3   1  sirena_endemica\n",
              "4   1  sirena_endemica\n",
              "5   1  sirena_endemica\n",
              "6   1  sirena_endemica\n",
              "7   0  sirena_migrante\n",
              "8   1  sirena_endemica\n",
              "9   1  sirena_endemica\n",
              "10  0  sirena_migrante\n",
              "11  0  sirena_migrante\n",
              "12  1  sirena_endemica\n",
              "13  0  sirena_migrante\n",
              "14  0  sirena_migrante\n",
              "15  0  sirena_migrante\n",
              "16  0  sirena_migrante\n",
              "17  0  sirena_migrante\n",
              "18  1  sirena_endemica\n",
              "19  0  sirena_migrante\n",
              "20  0  sirena_migrante\n",
              "21  1  sirena_endemica\n",
              "22  0  sirena_migrante\n",
              "23  1  sirena_endemica\n",
              "24  1  sirena_endemica"
            ]
          },
          "metadata": {
            "tags": []
          },
          "execution_count": 27
        }
      ]
    },
    {
      "cell_type": "code",
      "metadata": {
        "id": "regulated-point",
        "colab": {
          "base_uri": "https://localhost:8080/",
          "height": 286
        },
        "outputId": "6aab9269-e580-4da3-b91f-f46c75d998e4"
      },
      "source": [
        "sns.set(style=\"whitegrid\")\n",
        "sns.countplot(x='especie', data = y_predict)\n",
        "sns.despine(left=True, bottom=True)"
      ],
      "id": "regulated-point",
      "execution_count": null,
      "outputs": [
        {
          "output_type": "display_data",
          "data": {
            "image/png": "[encoded data removed]",
            "text/plain": [
              "<Figure size 432x288 with 1 Axes>"
            ]
          },
          "metadata": {
            "tags": []
          }
        }
      ]
    },
    {
      "cell_type": "markdown",
      "metadata": {
        "id": "limited-spine"
      },
      "source": [
        "### __*Predicting on New Data*__"
      ],
      "id": "limited-spine"
    },
    {
      "cell_type": "code",
      "metadata": {
        "id": "brazilian-charles"
      },
      "source": [
        "sir = pd.read_csv('/content/TrueHome/sirenas_endemicas_y_sirenas_migrantes.csv')"
      ],
      "id": "brazilian-charles",
      "execution_count": 76,
      "outputs": []
    },
    {
      "cell_type": "code",
      "metadata": {
        "id": "crude-biotechnology",
        "colab": {
          "base_uri": "https://localhost:8080/"
        },
        "outputId": "1707ef26-45c5-487e-d5ce-de4eb154b08c"
      },
      "source": [
        "sir.columns"
      ],
      "id": "crude-biotechnology",
      "execution_count": 77,
      "outputs": [
        {
          "output_type": "execute_result",
          "data": {
            "text/plain": [
              "Index(['v1', 'v2', 'v3', 'v4', 'especie'], dtype='object')"
            ]
          },
          "metadata": {
            "tags": []
          },
          "execution_count": 77
        }
      ]
    },
    {
      "cell_type": "code",
      "metadata": {
        "id": "moved-laptop"
      },
      "source": [
        "new_col = ['v1', 'v2', 'v3', 'v4']"
      ],
      "id": "moved-laptop",
      "execution_count": 78,
      "outputs": []
    },
    {
      "cell_type": "code",
      "metadata": {
        "id": "interpreted-jersey",
        "colab": {
          "base_uri": "https://localhost:8080/",
          "height": 204
        },
        "outputId": "769e03a7-1803-43a9-b74a-8e813f3205a8"
      },
      "source": [
        "sir.head()"
      ],
      "id": "interpreted-jersey",
      "execution_count": 79,
      "outputs": [
        {
          "output_type": "execute_result",
          "data": {
            "text/html": [
              "<div>\n",
              "<style scoped>\n",
              "    .dataframe tbody tr th:only-of-type {\n",
              "        vertical-align: middle;\n",
              "    }\n",
              "\n",
              "    .dataframe tbody tr th {\n",
              "        vertical-align: top;\n",
              "    }\n",
              "\n",
              "    .dataframe thead th {\n",
              "        text-align: right;\n",
              "    }\n",
              "</style>\n",
              "<table border=\"1\" class=\"dataframe\">\n",
              "  <thead>\n",
              "    <tr style=\"text-align: right;\">\n",
              "      <th></th>\n",
              "      <th>v1</th>\n",
              "      <th>v2</th>\n",
              "      <th>v3</th>\n",
              "      <th>v4</th>\n",
              "      <th>especie</th>\n",
              "    </tr>\n",
              "  </thead>\n",
              "  <tbody>\n",
              "    <tr>\n",
              "      <th>0</th>\n",
              "      <td>6.6</td>\n",
              "      <td>2.3</td>\n",
              "      <td>4.1</td>\n",
              "      <td>1.5</td>\n",
              "      <td>NaN</td>\n",
              "    </tr>\n",
              "    <tr>\n",
              "      <th>1</th>\n",
              "      <td>4.5</td>\n",
              "      <td>2.9</td>\n",
              "      <td>2.4</td>\n",
              "      <td>1.6</td>\n",
              "      <td>NaN</td>\n",
              "    </tr>\n",
              "    <tr>\n",
              "      <th>2</th>\n",
              "      <td>5.7</td>\n",
              "      <td>2.3</td>\n",
              "      <td>6.3</td>\n",
              "      <td>0.4</td>\n",
              "      <td>NaN</td>\n",
              "    </tr>\n",
              "    <tr>\n",
              "      <th>3</th>\n",
              "      <td>5.1</td>\n",
              "      <td>3.3</td>\n",
              "      <td>1.7</td>\n",
              "      <td>2.1</td>\n",
              "      <td>NaN</td>\n",
              "    </tr>\n",
              "    <tr>\n",
              "      <th>4</th>\n",
              "      <td>7.0</td>\n",
              "      <td>4.0</td>\n",
              "      <td>1.0</td>\n",
              "      <td>1.6</td>\n",
              "      <td>NaN</td>\n",
              "    </tr>\n",
              "  </tbody>\n",
              "</table>\n",
              "</div>"
            ],
            "text/plain": [
              "    v1   v2   v3   v4  especie\n",
              "0  6.6  2.3  4.1  1.5      NaN\n",
              "1  4.5  2.9  2.4  1.6      NaN\n",
              "2  5.7  2.3  6.3  0.4      NaN\n",
              "3  5.1  3.3  1.7  2.1      NaN\n",
              "4  7.0  4.0  1.0  1.6      NaN"
            ]
          },
          "metadata": {
            "tags": []
          },
          "execution_count": 79
        }
      ]
    },
    {
      "cell_type": "code",
      "metadata": {
        "id": "shaped-tennis"
      },
      "source": [
        "sir_predict = svm_clf.predict(sir.loc[:,new_col])"
      ],
      "id": "shaped-tennis",
      "execution_count": 80,
      "outputs": []
    },
    {
      "cell_type": "code",
      "metadata": {
        "id": "framed-scratch",
        "colab": {
          "base_uri": "https://localhost:8080/",
          "height": 304
        },
        "outputId": "531a652b-54b5-4622-a7b9-fd1758551f27"
      },
      "source": [
        "sir_predict = pd.DataFrame(sir_predict, columns=['especie'])\n",
        "sir_predict['especies'] = sir_predict.iloc[:,0].apply(original_label)\n",
        "sns.countplot(x='especies', data=sir_predict)"
      ],
      "id": "framed-scratch",
      "execution_count": 81,
      "outputs": [
        {
          "output_type": "execute_result",
          "data": {
            "text/plain": [
              "<matplotlib.axes._subplots.AxesSubplot at 0x7f5cbb37db10>"
            ]
          },
          "metadata": {
            "tags": []
          },
          "execution_count": 81
        },
        {
          "output_type": "display_data",
          "data": {
            "image/png": "[encoded data removed]",
            "text/plain": [
              "<Figure size 432x288 with 1 Axes>"
            ]
          },
          "metadata": {
            "tags": []
          }
        }
      ]
    },
    {
      "cell_type": "code",
      "metadata": {
        "id": "seasonal-plastic"
      },
      "source": [
        "sir['especies'] = sir_predict['especies']"
      ],
      "id": "seasonal-plastic",
      "execution_count": 82,
      "outputs": []
    },
    {
      "cell_type": "code",
      "metadata": {
        "id": "broad-lender",
        "colab": {
          "base_uri": "https://localhost:8080/"
        },
        "outputId": "f98d7aad-34a4-40e8-957a-327ccba9e121"
      },
      "source": [
        "sir.columns"
      ],
      "id": "broad-lender",
      "execution_count": 83,
      "outputs": [
        {
          "output_type": "execute_result",
          "data": {
            "text/plain": [
              "Index(['v1', 'v2', 'v3', 'v4', 'especie', 'especies'], dtype='object')"
            ]
          },
          "metadata": {
            "tags": []
          },
          "execution_count": 83
        }
      ]
    },
    {
      "cell_type": "code",
      "metadata": {
        "id": "gentle-rolling",
        "colab": {
          "base_uri": "https://localhost:8080/",
          "height": 142
        },
        "outputId": "dba3a315-f82a-474b-81a3-86574425cbc0"
      },
      "source": [
        "sir.groupby('especies').agg({\n",
        "                               'v1': np.mean\n",
        "                              ,'v2': np.mean  \n",
        "                              ,'v3': np.mean\n",
        "                              ,'v4': np.mean\n",
        "                              }).round(2)"
      ],
      "id": "gentle-rolling",
      "execution_count": 84,
      "outputs": [
        {
          "output_type": "execute_result",
          "data": {
            "text/html": [
              "<div>\n",
              "<style scoped>\n",
              "    .dataframe tbody tr th:only-of-type {\n",
              "        vertical-align: middle;\n",
              "    }\n",
              "\n",
              "    .dataframe tbody tr th {\n",
              "        vertical-align: top;\n",
              "    }\n",
              "\n",
              "    .dataframe thead th {\n",
              "        text-align: right;\n",
              "    }\n",
              "</style>\n",
              "<table border=\"1\" class=\"dataframe\">\n",
              "  <thead>\n",
              "    <tr style=\"text-align: right;\">\n",
              "      <th></th>\n",
              "      <th>v1</th>\n",
              "      <th>v2</th>\n",
              "      <th>v3</th>\n",
              "      <th>v4</th>\n",
              "    </tr>\n",
              "    <tr>\n",
              "      <th>especies</th>\n",
              "      <th></th>\n",
              "      <th></th>\n",
              "      <th></th>\n",
              "      <th></th>\n",
              "    </tr>\n",
              "  </thead>\n",
              "  <tbody>\n",
              "    <tr>\n",
              "      <th>sirena_endemica</th>\n",
              "      <td>6.42</td>\n",
              "      <td>3.36</td>\n",
              "      <td>4.27</td>\n",
              "      <td>1.37</td>\n",
              "    </tr>\n",
              "    <tr>\n",
              "      <th>sirena_migrante</th>\n",
              "      <td>5.15</td>\n",
              "      <td>3.56</td>\n",
              "      <td>2.66</td>\n",
              "      <td>1.25</td>\n",
              "    </tr>\n",
              "  </tbody>\n",
              "</table>\n",
              "</div>"
            ],
            "text/plain": [
              "                   v1    v2    v3    v4\n",
              "especies                               \n",
              "sirena_endemica  6.42  3.36  4.27  1.37\n",
              "sirena_migrante  5.15  3.56  2.66  1.25"
            ]
          },
          "metadata": {
            "tags": []
          },
          "execution_count": 84
        }
      ]
    },
    {
      "cell_type": "code",
      "metadata": {
        "id": "seventh-crowd",
        "colab": {
          "base_uri": "https://localhost:8080/",
          "height": 359
        },
        "outputId": "219d491f-7543-49ac-a5ea-12e98b9e8b71"
      },
      "source": [
        "values = ['v1', 'v2', 'v3', 'v4', 'especies']\n",
        "sir.loc[:, values].to_csv('sirenas_endemicas_y_sirenas_migrantes.csv')\n",
        "sir.loc[:, values].head(10)"
      ],
      "id": "seventh-crowd",
      "execution_count": 86,
      "outputs": [
        {
          "output_type": "execute_result",
          "data": {
            "text/html": [
              "<div>\n",
              "<style scoped>\n",
              "    .dataframe tbody tr th:only-of-type {\n",
              "        vertical-align: middle;\n",
              "    }\n",
              "\n",
              "    .dataframe tbody tr th {\n",
              "        vertical-align: top;\n",
              "    }\n",
              "\n",
              "    .dataframe thead th {\n",
              "        text-align: right;\n",
              "    }\n",
              "</style>\n",
              "<table border=\"1\" class=\"dataframe\">\n",
              "  <thead>\n",
              "    <tr style=\"text-align: right;\">\n",
              "      <th></th>\n",
              "      <th>v1</th>\n",
              "      <th>v2</th>\n",
              "      <th>v3</th>\n",
              "      <th>v4</th>\n",
              "      <th>especies</th>\n",
              "    </tr>\n",
              "  </thead>\n",
              "  <tbody>\n",
              "    <tr>\n",
              "      <th>0</th>\n",
              "      <td>6.6</td>\n",
              "      <td>2.3</td>\n",
              "      <td>4.1</td>\n",
              "      <td>1.5</td>\n",
              "      <td>sirena_endemica</td>\n",
              "    </tr>\n",
              "    <tr>\n",
              "      <th>1</th>\n",
              "      <td>4.5</td>\n",
              "      <td>2.9</td>\n",
              "      <td>2.4</td>\n",
              "      <td>1.6</td>\n",
              "      <td>sirena_migrante</td>\n",
              "    </tr>\n",
              "    <tr>\n",
              "      <th>2</th>\n",
              "      <td>5.7</td>\n",
              "      <td>2.3</td>\n",
              "      <td>6.3</td>\n",
              "      <td>0.4</td>\n",
              "      <td>sirena_endemica</td>\n",
              "    </tr>\n",
              "    <tr>\n",
              "      <th>3</th>\n",
              "      <td>5.1</td>\n",
              "      <td>3.3</td>\n",
              "      <td>1.7</td>\n",
              "      <td>2.1</td>\n",
              "      <td>sirena_migrante</td>\n",
              "    </tr>\n",
              "    <tr>\n",
              "      <th>4</th>\n",
              "      <td>7.0</td>\n",
              "      <td>4.0</td>\n",
              "      <td>1.0</td>\n",
              "      <td>1.6</td>\n",
              "      <td>sirena_migrante</td>\n",
              "    </tr>\n",
              "    <tr>\n",
              "      <th>5</th>\n",
              "      <td>7.6</td>\n",
              "      <td>2.3</td>\n",
              "      <td>2.1</td>\n",
              "      <td>1.2</td>\n",
              "      <td>sirena_endemica</td>\n",
              "    </tr>\n",
              "    <tr>\n",
              "      <th>6</th>\n",
              "      <td>4.7</td>\n",
              "      <td>3.3</td>\n",
              "      <td>5.6</td>\n",
              "      <td>1.8</td>\n",
              "      <td>sirena_endemica</td>\n",
              "    </tr>\n",
              "    <tr>\n",
              "      <th>7</th>\n",
              "      <td>4.9</td>\n",
              "      <td>3.8</td>\n",
              "      <td>2.0</td>\n",
              "      <td>2.4</td>\n",
              "      <td>sirena_migrante</td>\n",
              "    </tr>\n",
              "    <tr>\n",
              "      <th>8</th>\n",
              "      <td>7.4</td>\n",
              "      <td>3.0</td>\n",
              "      <td>4.3</td>\n",
              "      <td>0.8</td>\n",
              "      <td>sirena_endemica</td>\n",
              "    </tr>\n",
              "    <tr>\n",
              "      <th>9</th>\n",
              "      <td>6.0</td>\n",
              "      <td>3.0</td>\n",
              "      <td>2.5</td>\n",
              "      <td>2.1</td>\n",
              "      <td>sirena_endemica</td>\n",
              "    </tr>\n",
              "  </tbody>\n",
              "</table>\n",
              "</div>"
            ],
            "text/plain": [
              "    v1   v2   v3   v4         especies\n",
              "0  6.6  2.3  4.1  1.5  sirena_endemica\n",
              "1  4.5  2.9  2.4  1.6  sirena_migrante\n",
              "2  5.7  2.3  6.3  0.4  sirena_endemica\n",
              "3  5.1  3.3  1.7  2.1  sirena_migrante\n",
              "4  7.0  4.0  1.0  1.6  sirena_migrante\n",
              "5  7.6  2.3  2.1  1.2  sirena_endemica\n",
              "6  4.7  3.3  5.6  1.8  sirena_endemica\n",
              "7  4.9  3.8  2.0  2.4  sirena_migrante\n",
              "8  7.4  3.0  4.3  0.8  sirena_endemica\n",
              "9  6.0  3.0  2.5  2.1  sirena_endemica"
            ]
          },
          "metadata": {
            "tags": []
          },
          "execution_count": 86
        }
      ]
    }
  ]
}